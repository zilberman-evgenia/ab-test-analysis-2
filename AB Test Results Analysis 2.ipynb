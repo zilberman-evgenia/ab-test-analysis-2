{
 "cells": [
  {
   "cell_type": "markdown",
   "metadata": {},
   "source": [
    "<h1 style=\"color:green; margin-bottom:15px;font-size:30px\">Online Shop Conversion Rates - A/B Test Analysis 2</h1>"
   ]
  },
  {
   "cell_type": "markdown",
   "metadata": {},
   "source": [
    "# Project Description\n",
    "\n",
    "**A/B Test goal: testing changes associated with the introduction of an improved recommender system**\n",
    "- groups: A - control, B - new payment funnel;\n",
    "- launch date: 2020-12-07;\n",
    "- date of stopping the recruitment of new users: 2020-12-21;\n",
    "- test stop date: 2021-01-04;\n",
    "- audience: 15% of new users from the EU region;\n",
    "- expected number of test participants: 6000.\n",
    "- expected effect: in 14 days from the moment of registration, users will show an improvement in each metric by at least 10%.\n",
    "\n",
    "**Your task is to evaluate the results of the A/B test.** You have a dataset with user actions, a technical task and several additional datasets at your disposal.\n",
    "\n",
    "- Evaluate the correctness of the test\n",
    "- Analyze test results\n",
    "\n",
    "**To evaluate the correctness of the test, check:**\n",
    "- intersection of the test audience with a competing test,\n",
    "- coincidence of the test and marketing events, other problems of time limits of the test."
   ]
  },
  {
   "cell_type": "markdown",
   "metadata": {},
   "source": [
    "# Contents\n",
    "\n",
    "1. Libraries Import\n",
    "2. Data Import\n",
    "3. Data Description\n",
    "4. Test Correctness Analysis and Data Preprocessing\n",
    "5. A/B Test Analysis\n",
    "6. Conclusion"
   ]
  },
  {
   "cell_type": "markdown",
   "metadata": {},
   "source": [
    "## 1. Libraries Import"
   ]
  },
  {
   "cell_type": "code",
   "execution_count": 1,
   "metadata": {},
   "outputs": [],
   "source": [
    "import pandas as pd\n",
    "import math as mth\n",
    "import numpy as np\n",
    "import datetime as dt\n",
    "from scipy import stats as st\n",
    "import warnings\n",
    "warnings.filterwarnings('ignore')\n",
    "import matplotlib.pyplot as plt\n",
    "import seaborn as sns\n",
    "from io import BytesIO\n",
    "import requests\n",
    "import statistics\n",
    "from plotly import graph_objects as go\n",
    "import plotly.express as px"
   ]
  },
  {
   "cell_type": "markdown",
   "metadata": {},
   "source": [
    "## 2. Data Import"
   ]
  },
  {
   "cell_type": "code",
   "execution_count": 2,
   "metadata": {},
   "outputs": [
    {
     "ename": "FileNotFoundError",
     "evalue": "[Errno 2] No such file or directory: 'ab_project_marketing_events.csv'",
     "output_type": "error",
     "traceback": [
      "\u001b[1;31m---------------------------------------------------------------------------\u001b[0m",
      "\u001b[1;31mFileNotFoundError\u001b[0m                         Traceback (most recent call last)",
      "\u001b[1;32m<ipython-input-2-ec019bbe67e8>\u001b[0m in \u001b[0;36m<module>\u001b[1;34m\u001b[0m\n\u001b[0;32m      1\u001b[0m \u001b[1;31m#importing marketing campaigns data and removing all campaigns launched before December 2020\u001b[0m\u001b[1;33m\u001b[0m\u001b[1;33m\u001b[0m\u001b[1;33m\u001b[0m\u001b[0m\n\u001b[1;32m----> 2\u001b[1;33m \u001b[0mmarketing\u001b[0m\u001b[1;33m=\u001b[0m\u001b[0mpd\u001b[0m\u001b[1;33m.\u001b[0m\u001b[0mread_csv\u001b[0m\u001b[1;33m(\u001b[0m\u001b[1;34m'ab_project_marketing_events.csv'\u001b[0m\u001b[1;33m)\u001b[0m\u001b[1;33m\u001b[0m\u001b[1;33m\u001b[0m\u001b[0m\n\u001b[0m\u001b[0;32m      3\u001b[0m \u001b[0mmarketing\u001b[0m\u001b[1;33m=\u001b[0m\u001b[0mmarketing\u001b[0m\u001b[1;33m.\u001b[0m\u001b[0msort_values\u001b[0m\u001b[1;33m(\u001b[0m\u001b[0mby\u001b[0m\u001b[1;33m=\u001b[0m\u001b[1;34m'start_dt'\u001b[0m\u001b[1;33m,\u001b[0m \u001b[0mascending\u001b[0m\u001b[1;33m=\u001b[0m\u001b[1;32mTrue\u001b[0m\u001b[1;33m)\u001b[0m\u001b[1;33m\u001b[0m\u001b[1;33m\u001b[0m\u001b[0m\n\u001b[0;32m      4\u001b[0m \u001b[0mmarketing\u001b[0m\u001b[1;33m[\u001b[0m\u001b[1;34m'start_dt'\u001b[0m\u001b[1;33m]\u001b[0m \u001b[1;33m=\u001b[0m \u001b[0mpd\u001b[0m\u001b[1;33m.\u001b[0m\u001b[0mto_datetime\u001b[0m\u001b[1;33m(\u001b[0m\u001b[0mmarketing\u001b[0m\u001b[1;33m[\u001b[0m\u001b[1;34m'start_dt'\u001b[0m\u001b[1;33m]\u001b[0m\u001b[1;33m)\u001b[0m\u001b[1;33m\u001b[0m\u001b[1;33m\u001b[0m\u001b[0m\n\u001b[0;32m      5\u001b[0m \u001b[0mmarketing\u001b[0m\u001b[1;33m[\u001b[0m\u001b[1;34m'finish_dt'\u001b[0m\u001b[1;33m]\u001b[0m \u001b[1;33m=\u001b[0m \u001b[0mpd\u001b[0m\u001b[1;33m.\u001b[0m\u001b[0mto_datetime\u001b[0m\u001b[1;33m(\u001b[0m\u001b[0mmarketing\u001b[0m\u001b[1;33m[\u001b[0m\u001b[1;34m'finish_dt'\u001b[0m\u001b[1;33m]\u001b[0m\u001b[1;33m)\u001b[0m\u001b[1;33m\u001b[0m\u001b[1;33m\u001b[0m\u001b[0m\n",
      "\u001b[1;32m~\\anaconda3\\lib\\site-packages\\pandas\\io\\parsers.py\u001b[0m in \u001b[0;36mread_csv\u001b[1;34m(filepath_or_buffer, sep, delimiter, header, names, index_col, usecols, squeeze, prefix, mangle_dupe_cols, dtype, engine, converters, true_values, false_values, skipinitialspace, skiprows, skipfooter, nrows, na_values, keep_default_na, na_filter, verbose, skip_blank_lines, parse_dates, infer_datetime_format, keep_date_col, date_parser, dayfirst, cache_dates, iterator, chunksize, compression, thousands, decimal, lineterminator, quotechar, quoting, doublequote, escapechar, comment, encoding, dialect, error_bad_lines, warn_bad_lines, delim_whitespace, low_memory, memory_map, float_precision, storage_options)\u001b[0m\n\u001b[0;32m    608\u001b[0m     \u001b[0mkwds\u001b[0m\u001b[1;33m.\u001b[0m\u001b[0mupdate\u001b[0m\u001b[1;33m(\u001b[0m\u001b[0mkwds_defaults\u001b[0m\u001b[1;33m)\u001b[0m\u001b[1;33m\u001b[0m\u001b[1;33m\u001b[0m\u001b[0m\n\u001b[0;32m    609\u001b[0m \u001b[1;33m\u001b[0m\u001b[0m\n\u001b[1;32m--> 610\u001b[1;33m     \u001b[1;32mreturn\u001b[0m \u001b[0m_read\u001b[0m\u001b[1;33m(\u001b[0m\u001b[0mfilepath_or_buffer\u001b[0m\u001b[1;33m,\u001b[0m \u001b[0mkwds\u001b[0m\u001b[1;33m)\u001b[0m\u001b[1;33m\u001b[0m\u001b[1;33m\u001b[0m\u001b[0m\n\u001b[0m\u001b[0;32m    611\u001b[0m \u001b[1;33m\u001b[0m\u001b[0m\n\u001b[0;32m    612\u001b[0m \u001b[1;33m\u001b[0m\u001b[0m\n",
      "\u001b[1;32m~\\anaconda3\\lib\\site-packages\\pandas\\io\\parsers.py\u001b[0m in \u001b[0;36m_read\u001b[1;34m(filepath_or_buffer, kwds)\u001b[0m\n\u001b[0;32m    460\u001b[0m \u001b[1;33m\u001b[0m\u001b[0m\n\u001b[0;32m    461\u001b[0m     \u001b[1;31m# Create the parser.\u001b[0m\u001b[1;33m\u001b[0m\u001b[1;33m\u001b[0m\u001b[1;33m\u001b[0m\u001b[0m\n\u001b[1;32m--> 462\u001b[1;33m     \u001b[0mparser\u001b[0m \u001b[1;33m=\u001b[0m \u001b[0mTextFileReader\u001b[0m\u001b[1;33m(\u001b[0m\u001b[0mfilepath_or_buffer\u001b[0m\u001b[1;33m,\u001b[0m \u001b[1;33m**\u001b[0m\u001b[0mkwds\u001b[0m\u001b[1;33m)\u001b[0m\u001b[1;33m\u001b[0m\u001b[1;33m\u001b[0m\u001b[0m\n\u001b[0m\u001b[0;32m    463\u001b[0m \u001b[1;33m\u001b[0m\u001b[0m\n\u001b[0;32m    464\u001b[0m     \u001b[1;32mif\u001b[0m \u001b[0mchunksize\u001b[0m \u001b[1;32mor\u001b[0m \u001b[0miterator\u001b[0m\u001b[1;33m:\u001b[0m\u001b[1;33m\u001b[0m\u001b[1;33m\u001b[0m\u001b[0m\n",
      "\u001b[1;32m~\\anaconda3\\lib\\site-packages\\pandas\\io\\parsers.py\u001b[0m in \u001b[0;36m__init__\u001b[1;34m(self, f, engine, **kwds)\u001b[0m\n\u001b[0;32m    817\u001b[0m             \u001b[0mself\u001b[0m\u001b[1;33m.\u001b[0m\u001b[0moptions\u001b[0m\u001b[1;33m[\u001b[0m\u001b[1;34m\"has_index_names\"\u001b[0m\u001b[1;33m]\u001b[0m \u001b[1;33m=\u001b[0m \u001b[0mkwds\u001b[0m\u001b[1;33m[\u001b[0m\u001b[1;34m\"has_index_names\"\u001b[0m\u001b[1;33m]\u001b[0m\u001b[1;33m\u001b[0m\u001b[1;33m\u001b[0m\u001b[0m\n\u001b[0;32m    818\u001b[0m \u001b[1;33m\u001b[0m\u001b[0m\n\u001b[1;32m--> 819\u001b[1;33m         \u001b[0mself\u001b[0m\u001b[1;33m.\u001b[0m\u001b[0m_engine\u001b[0m \u001b[1;33m=\u001b[0m \u001b[0mself\u001b[0m\u001b[1;33m.\u001b[0m\u001b[0m_make_engine\u001b[0m\u001b[1;33m(\u001b[0m\u001b[0mself\u001b[0m\u001b[1;33m.\u001b[0m\u001b[0mengine\u001b[0m\u001b[1;33m)\u001b[0m\u001b[1;33m\u001b[0m\u001b[1;33m\u001b[0m\u001b[0m\n\u001b[0m\u001b[0;32m    820\u001b[0m \u001b[1;33m\u001b[0m\u001b[0m\n\u001b[0;32m    821\u001b[0m     \u001b[1;32mdef\u001b[0m \u001b[0mclose\u001b[0m\u001b[1;33m(\u001b[0m\u001b[0mself\u001b[0m\u001b[1;33m)\u001b[0m\u001b[1;33m:\u001b[0m\u001b[1;33m\u001b[0m\u001b[1;33m\u001b[0m\u001b[0m\n",
      "\u001b[1;32m~\\anaconda3\\lib\\site-packages\\pandas\\io\\parsers.py\u001b[0m in \u001b[0;36m_make_engine\u001b[1;34m(self, engine)\u001b[0m\n\u001b[0;32m   1048\u001b[0m             )\n\u001b[0;32m   1049\u001b[0m         \u001b[1;31m# error: Too many arguments for \"ParserBase\"\u001b[0m\u001b[1;33m\u001b[0m\u001b[1;33m\u001b[0m\u001b[1;33m\u001b[0m\u001b[0m\n\u001b[1;32m-> 1050\u001b[1;33m         \u001b[1;32mreturn\u001b[0m \u001b[0mmapping\u001b[0m\u001b[1;33m[\u001b[0m\u001b[0mengine\u001b[0m\u001b[1;33m]\u001b[0m\u001b[1;33m(\u001b[0m\u001b[0mself\u001b[0m\u001b[1;33m.\u001b[0m\u001b[0mf\u001b[0m\u001b[1;33m,\u001b[0m \u001b[1;33m**\u001b[0m\u001b[0mself\u001b[0m\u001b[1;33m.\u001b[0m\u001b[0moptions\u001b[0m\u001b[1;33m)\u001b[0m  \u001b[1;31m# type: ignore[call-arg]\u001b[0m\u001b[1;33m\u001b[0m\u001b[1;33m\u001b[0m\u001b[0m\n\u001b[0m\u001b[0;32m   1051\u001b[0m \u001b[1;33m\u001b[0m\u001b[0m\n\u001b[0;32m   1052\u001b[0m     \u001b[1;32mdef\u001b[0m \u001b[0m_failover_to_python\u001b[0m\u001b[1;33m(\u001b[0m\u001b[0mself\u001b[0m\u001b[1;33m)\u001b[0m\u001b[1;33m:\u001b[0m\u001b[1;33m\u001b[0m\u001b[1;33m\u001b[0m\u001b[0m\n",
      "\u001b[1;32m~\\anaconda3\\lib\\site-packages\\pandas\\io\\parsers.py\u001b[0m in \u001b[0;36m__init__\u001b[1;34m(self, src, **kwds)\u001b[0m\n\u001b[0;32m   1865\u001b[0m \u001b[1;33m\u001b[0m\u001b[0m\n\u001b[0;32m   1866\u001b[0m         \u001b[1;31m# open handles\u001b[0m\u001b[1;33m\u001b[0m\u001b[1;33m\u001b[0m\u001b[1;33m\u001b[0m\u001b[0m\n\u001b[1;32m-> 1867\u001b[1;33m         \u001b[0mself\u001b[0m\u001b[1;33m.\u001b[0m\u001b[0m_open_handles\u001b[0m\u001b[1;33m(\u001b[0m\u001b[0msrc\u001b[0m\u001b[1;33m,\u001b[0m \u001b[0mkwds\u001b[0m\u001b[1;33m)\u001b[0m\u001b[1;33m\u001b[0m\u001b[1;33m\u001b[0m\u001b[0m\n\u001b[0m\u001b[0;32m   1868\u001b[0m         \u001b[1;32massert\u001b[0m \u001b[0mself\u001b[0m\u001b[1;33m.\u001b[0m\u001b[0mhandles\u001b[0m \u001b[1;32mis\u001b[0m \u001b[1;32mnot\u001b[0m \u001b[1;32mNone\u001b[0m\u001b[1;33m\u001b[0m\u001b[1;33m\u001b[0m\u001b[0m\n\u001b[0;32m   1869\u001b[0m         \u001b[1;32mfor\u001b[0m \u001b[0mkey\u001b[0m \u001b[1;32min\u001b[0m \u001b[1;33m(\u001b[0m\u001b[1;34m\"storage_options\"\u001b[0m\u001b[1;33m,\u001b[0m \u001b[1;34m\"encoding\"\u001b[0m\u001b[1;33m,\u001b[0m \u001b[1;34m\"memory_map\"\u001b[0m\u001b[1;33m,\u001b[0m \u001b[1;34m\"compression\"\u001b[0m\u001b[1;33m)\u001b[0m\u001b[1;33m:\u001b[0m\u001b[1;33m\u001b[0m\u001b[1;33m\u001b[0m\u001b[0m\n",
      "\u001b[1;32m~\\anaconda3\\lib\\site-packages\\pandas\\io\\parsers.py\u001b[0m in \u001b[0;36m_open_handles\u001b[1;34m(self, src, kwds)\u001b[0m\n\u001b[0;32m   1360\u001b[0m         \u001b[0mLet\u001b[0m \u001b[0mthe\u001b[0m \u001b[0mreaders\u001b[0m \u001b[0mopen\u001b[0m \u001b[0mIOHanldes\u001b[0m \u001b[0mafter\u001b[0m \u001b[0mthey\u001b[0m \u001b[0mare\u001b[0m \u001b[0mdone\u001b[0m \u001b[1;32mwith\u001b[0m \u001b[0mtheir\u001b[0m \u001b[0mpotential\u001b[0m \u001b[0mraises\u001b[0m\u001b[1;33m.\u001b[0m\u001b[1;33m\u001b[0m\u001b[1;33m\u001b[0m\u001b[0m\n\u001b[0;32m   1361\u001b[0m         \"\"\"\n\u001b[1;32m-> 1362\u001b[1;33m         self.handles = get_handle(\n\u001b[0m\u001b[0;32m   1363\u001b[0m             \u001b[0msrc\u001b[0m\u001b[1;33m,\u001b[0m\u001b[1;33m\u001b[0m\u001b[1;33m\u001b[0m\u001b[0m\n\u001b[0;32m   1364\u001b[0m             \u001b[1;34m\"r\"\u001b[0m\u001b[1;33m,\u001b[0m\u001b[1;33m\u001b[0m\u001b[1;33m\u001b[0m\u001b[0m\n",
      "\u001b[1;32m~\\anaconda3\\lib\\site-packages\\pandas\\io\\common.py\u001b[0m in \u001b[0;36mget_handle\u001b[1;34m(path_or_buf, mode, encoding, compression, memory_map, is_text, errors, storage_options)\u001b[0m\n\u001b[0;32m    640\u001b[0m                 \u001b[0merrors\u001b[0m \u001b[1;33m=\u001b[0m \u001b[1;34m\"replace\"\u001b[0m\u001b[1;33m\u001b[0m\u001b[1;33m\u001b[0m\u001b[0m\n\u001b[0;32m    641\u001b[0m             \u001b[1;31m# Encoding\u001b[0m\u001b[1;33m\u001b[0m\u001b[1;33m\u001b[0m\u001b[1;33m\u001b[0m\u001b[0m\n\u001b[1;32m--> 642\u001b[1;33m             handle = open(\n\u001b[0m\u001b[0;32m    643\u001b[0m                 \u001b[0mhandle\u001b[0m\u001b[1;33m,\u001b[0m\u001b[1;33m\u001b[0m\u001b[1;33m\u001b[0m\u001b[0m\n\u001b[0;32m    644\u001b[0m                 \u001b[0mioargs\u001b[0m\u001b[1;33m.\u001b[0m\u001b[0mmode\u001b[0m\u001b[1;33m,\u001b[0m\u001b[1;33m\u001b[0m\u001b[1;33m\u001b[0m\u001b[0m\n",
      "\u001b[1;31mFileNotFoundError\u001b[0m: [Errno 2] No such file or directory: 'ab_project_marketing_events.csv'"
     ]
    }
   ],
   "source": [
    "#importing marketing campaigns data and removing all campaigns launched before December 2020\n",
    "marketing=pd.read_csv('ab_project_marketing_events.csv')\n",
    "marketing=marketing.sort_values(by='start_dt', ascending=True)\n",
    "marketing['start_dt'] = pd.to_datetime(marketing['start_dt'])\n",
    "marketing['finish_dt'] = pd.to_datetime(marketing['finish_dt'])\n",
    "marketing.drop(marketing[marketing['start_dt'] < '2020-12-01'].index, inplace = True) \n",
    "display(marketing)\n",
    "display(marketing.info())"
   ]
  },
  {
   "cell_type": "code",
   "execution_count": null,
   "metadata": {},
   "outputs": [],
   "source": [
    "#importing users data, convertinhg first_date into datetime\n",
    "new_users=pd.read_csv('final_ab_new_users.csv')\n",
    "new_users['first_date'] = pd.to_datetime(new_users['first_date'])\n",
    "\n",
    "#removing the data on devices, we won't need it further\n",
    "new_users.drop('device', axis=1, inplace=True)\n",
    "\n",
    "display(new_users)\n",
    "display(new_users.info())"
   ]
  },
  {
   "cell_type": "code",
   "execution_count": null,
   "metadata": {},
   "outputs": [],
   "source": [
    "#checking the range of dates\n",
    "display(new_users['first_date'].describe())"
   ]
  },
  {
   "cell_type": "code",
   "execution_count": null,
   "metadata": {},
   "outputs": [],
   "source": [
    "display(new_users['user_id'].nunique())"
   ]
  },
  {
   "cell_type": "code",
   "execution_count": null,
   "metadata": {},
   "outputs": [],
   "source": [
    "#importing events data, convertinhg event_dt into datetime\n",
    "events=pd.read_csv('final_ab_events.csv')\n",
    "events['event_dt'] = pd.to_datetime(events['event_dt'])\n",
    "display(events)\n",
    "display(events.info())"
   ]
  },
  {
   "cell_type": "code",
   "execution_count": null,
   "metadata": {},
   "outputs": [],
   "source": [
    "events['event_name'].value_counts()"
   ]
  },
  {
   "cell_type": "code",
   "execution_count": null,
   "metadata": {},
   "outputs": [],
   "source": [
    "#checking for duplicates\n",
    "events.duplicated().sum()"
   ]
  },
  {
   "cell_type": "code",
   "execution_count": null,
   "metadata": {},
   "outputs": [],
   "source": [
    "#checking the range of dates\n",
    "display(events['event_dt'].describe())"
   ]
  },
  {
   "cell_type": "code",
   "execution_count": null,
   "metadata": {},
   "outputs": [],
   "source": [
    "#importing test participants data\n",
    "participants=pd.read_csv('final_ab_participants.csv')\n",
    "display(participants)\n",
    "display(participants.info())"
   ]
  },
  {
   "cell_type": "code",
   "execution_count": null,
   "metadata": {},
   "outputs": [],
   "source": [
    "#checking for duplicates\n",
    "participants.duplicated().sum()"
   ]
  },
  {
   "cell_type": "markdown",
   "metadata": {},
   "source": [
    "## 3. Data Description\n",
    "\n",
    "The datasets contains 4 tables:\n",
    "\n",
    "**ab_project_marketing_events.csv** - marketing events for 2020, now contains 2 events intersecting with the test period.\n",
    "\n",
    "File structure:\n",
    "\n",
    "name — name of the marketing event;\n",
    "regions — regions in which the advertising campaign will be carried out;\n",
    "start_dt — campaign start date;\n",
    "finish_dt — end date of the campaign.\n",
    "\n",
    "**final_ab_new_users.csv** - users who registered from December 7 to December 23, 2020.\n",
    "\n",
    "File structure:\n",
    "\n",
    "user_id;\n",
    "first_date — registration date;\n",
    "region — user's region.\n",
    "\n",
    "**final_ab_events.csv** - 4 targeted actions for new users from December 7, 2020 to December 30, 2021.\n",
    "\n",
    "File structure:\n",
    "\n",
    "user_id - user ID;\n",
    "event_dt - date and time of purchase;\n",
    "event_name - event type;\n",
    "details — additional data about the event. For example, for purchases, purchase, this field stores the cost of the purchase in dollars.\n",
    "\n",
    "**final_ab_participants.csv** - table of test participants, currently contains 18268 participants from two different tests.\n",
    "\n",
    "File structure:\n",
    "\n",
    "user_id - user ID;\n",
    "ab_test - test name;\n",
    "group — user group.\n",
    "\n",
    "All 4 datasets do not contain outliers, gaps (except for the cost in events, which is indicated only for purchases) and duplicates. Data types have been converted."
   ]
  },
  {
   "cell_type": "markdown",
   "metadata": {},
   "source": [
    "## 4. Test Correctness Analysis and Data Preprocessing"
   ]
  },
  {
   "cell_type": "markdown",
   "metadata": {},
   "source": [
    "### 4.1 Checking for tests inresections"
   ]
  },
  {
   "cell_type": "code",
   "execution_count": null,
   "metadata": {},
   "outputs": [],
   "source": [
    "participants['ab_test'].value_counts()"
   ]
  },
  {
   "cell_type": "code",
   "execution_count": null,
   "metadata": {},
   "outputs": [],
   "source": [
    "interface_eu_test = participants[participants['ab_test']=='interface_eu_test']['user_id'].unique()\n",
    "recommender_system_test = participants[participants['ab_test']=='recommender_system_test']['user_id'].unique()\n",
    "\n",
    "participants_to_delete = pd.Series(list(set(interface_eu_test).intersection(set(recommender_system_test))))\n",
    "print(participants_to_delete)"
   ]
  },
  {
   "cell_type": "markdown",
   "metadata": {},
   "source": [
    "Dataset contains 2 tests: **recommender_system_test** и **interface_eu_test**\n",
    "\n",
    "There are 826 intersected users, let's remove them from the dataset as well as remove all **interface_eu_test** users"
   ]
  },
  {
   "cell_type": "code",
   "execution_count": null,
   "metadata": {},
   "outputs": [],
   "source": [
    "participants.drop(participants[participants['ab_test'] == 'interface_eu_test'].index, inplace=True)\n",
    "\n",
    "for x in participants_to_delete:\n",
    "    participants.drop(participants[participants['user_id'] == x].index, inplace=True)"
   ]
  },
  {
   "cell_type": "code",
   "execution_count": null,
   "metadata": {},
   "outputs": [],
   "source": [
    "participants['ab_test'].value_counts()"
   ]
  },
  {
   "cell_type": "markdown",
   "metadata": {},
   "source": [
    "### 4.2 Checking the division of traffic"
   ]
  },
  {
   "cell_type": "code",
   "execution_count": null,
   "metadata": {},
   "outputs": [],
   "source": [
    "print('Unique users:', participants['user_id'].nunique())"
   ]
  },
  {
   "cell_type": "code",
   "execution_count": null,
   "metadata": {},
   "outputs": [],
   "source": [
    "mixed_participants = participants.groupby(['user_id']).agg({'group': 'nunique'}).sort_values(by='user_id', ascending=False).reset_index()\n",
    "mixed_participants = mixed_participants[mixed_participants['group']>1]\n",
    "participants_to_delete = mixed_participants['user_id']\n",
    "print('Users appearing in both test groups:', mixed_participants['user_id'].count())"
   ]
  },
  {
   "cell_type": "markdown",
   "metadata": {},
   "source": [
    "### 4.3 Merging the users and analysing  the regions they come from"
   ]
  },
  {
   "cell_type": "code",
   "execution_count": null,
   "metadata": {},
   "outputs": [],
   "source": [
    "participants = participants.merge(new_users, on=['user_id'], how='inner')\n",
    "participants.info()"
   ]
  },
  {
   "cell_type": "code",
   "execution_count": null,
   "metadata": {},
   "outputs": [],
   "source": [
    "participants['region'].value_counts()"
   ]
  },
  {
   "cell_type": "markdown",
   "metadata": {},
   "source": [
    "According to the test terms, only EU users should get into the test, let's delete the users from other regions"
   ]
  },
  {
   "cell_type": "code",
   "execution_count": null,
   "metadata": {},
   "outputs": [],
   "source": [
    "participants = participants[participants['region']=='EU']\n",
    "print('Unique users:', participants['user_id'].nunique())"
   ]
  },
  {
   "cell_type": "code",
   "execution_count": null,
   "metadata": {},
   "outputs": [],
   "source": [
    "display(participants['first_date'].describe())"
   ]
  },
  {
   "cell_type": "markdown",
   "metadata": {},
   "source": [
    "Let's check if our sample includes 15% of all new users from Europe, registered in the period from 7 to 21 December"
   ]
  },
  {
   "cell_type": "code",
   "execution_count": null,
   "metadata": {},
   "outputs": [],
   "source": [
    "europe = new_users[new_users['region'] == 'EU']\n",
    "europe = europe[europe['first_date']>'2020-12-06']\n",
    "europe = europe[europe['first_date']<'2020-12-22']\n",
    "print('New users from Europe, registered in the period from 7 to 21 December:',europe['user_id'].nunique())"
   ]
  },
  {
   "cell_type": "code",
   "execution_count": null,
   "metadata": {},
   "outputs": [],
   "source": [
    "print('The percentage of new users from Europe, registered in the period from 7 to 21 December participating in the test:',round(100*participants['user_id'].nunique()/europe['user_id'].nunique(),2))"
   ]
  },
  {
   "cell_type": "markdown",
   "metadata": {},
   "source": [
    "The dataset currently contains 4749 users (11% of new European users registered between December 7th and 21st) who only participated in the **recommender_system_test** and registered from December 7th to 21st, 2020."
   ]
  },
  {
   "cell_type": "code",
   "execution_count": null,
   "metadata": {},
   "outputs": [],
   "source": [
    "#removing ab_test, first_date, region columns - we won't need them further\n",
    "participants.drop('ab_test', axis=1, inplace=True)\n",
    "participants.drop('region', axis=1, inplace=True)\n",
    "participants.info()"
   ]
  },
  {
   "cell_type": "markdown",
   "metadata": {},
   "source": [
    "### 4.4 Merging the data on users and events"
   ]
  },
  {
   "cell_type": "code",
   "execution_count": null,
   "metadata": {},
   "outputs": [],
   "source": [
    "events = participants.merge(events, on=['user_id'], how='inner')\n",
    "events['event_dt'] = events['event_dt'].dt.date\n",
    "events\n",
    "events.info()"
   ]
  },
  {
   "cell_type": "markdown",
   "metadata": {},
   "source": [
    "### 4.5 Removing all events that happened to the user 14 days after registration"
   ]
  },
  {
   "cell_type": "code",
   "execution_count": null,
   "metadata": {},
   "outputs": [],
   "source": [
    "events=events[events['first_date'] + dt.timedelta(days=14) >= events['event_dt']]\n",
    "events.info()"
   ]
  },
  {
   "cell_type": "markdown",
   "metadata": {},
   "source": [
    "### 4.6 Events that overlap with the advertising campaigns"
   ]
  },
  {
   "cell_type": "markdown",
   "metadata": {},
   "source": [
    "The test overlaps with the Christmas&New Year Promo marketing campaign that ran from 2020-12-25 to 2021-01-03. In this task, we will not delete data on events that occurred before 2020-12-25 from the dataset (since there will only be 2340 events for 1530 participants, and the initial expected number of participants is 6000) and since this advertising campaign should equally affect both users from group A, and users from group B. But in future, we will try to avoid these intersections."
   ]
  },
  {
   "cell_type": "markdown",
   "metadata": {},
   "source": [
    "### 4.7 Events Analysis "
   ]
  },
  {
   "cell_type": "markdown",
   "metadata": {},
   "source": [
    "- How is the number of events distributed over the days?\n",
    "- How does the conversion in the funnel change at different stages?\n",
    "- Are the number of events per user equally distributed in the samples?"
   ]
  },
  {
   "cell_type": "code",
   "execution_count": null,
   "metadata": {},
   "outputs": [],
   "source": [
    "events_A = events[events['group']=='A']\n",
    "events_B = events[events['group']=='B']"
   ]
  },
  {
   "cell_type": "code",
   "execution_count": null,
   "metadata": {},
   "outputs": [],
   "source": [
    "sample = events_A.groupby('event_dt').agg({'user_id': 'count'}).sort_values(by='event_dt', ascending=True).reset_index()\n",
    "\n",
    "fig, ax = plt.subplots(figsize=(20,10))\n",
    "rc={'axes.labelsize': 15, 'font.size': 15, 'legend.fontsize': 12, 'axes.titlesize': 18}\n",
    "plt.rcParams.update(**rc)\n",
    "\n",
    "splot=sns.barplot(x='event_dt', y='user_id', data=sample)\n",
    "\n",
    "for p in splot.patches:\n",
    "    splot.annotate(format(p.get_height(), '.0f'), \n",
    "                   (p.get_x() + p.get_width() / 2., p.get_height()), \n",
    "                   ha = 'center', va = 'center', \n",
    "                   xytext = (0, 9), \n",
    "                   textcoords = 'offset points')\n",
    "    \n",
    "plt.xticks(rotation=37)          \n",
    "plt.xlabel(None)\n",
    "plt.title('Events distribution by date in group A')\n",
    "plt.ylabel(None)\n",
    "plt.show()"
   ]
  },
  {
   "cell_type": "markdown",
   "metadata": {},
   "source": [
    "In group A, the number of events fluctuates around 200-300 in the first week of observations and increases sharply on December 14 to 755, then the number of events goes up steadily and reaches its peak at 1442 per day (December 21) and drops to 301 per day until the end of the observation period (December 29th)."
   ]
  },
  {
   "cell_type": "code",
   "execution_count": null,
   "metadata": {},
   "outputs": [],
   "source": [
    "sample = events_B.groupby('event_dt').agg({'user_id': 'count'}).sort_values(by='event_dt', ascending=True).reset_index()\n",
    "\n",
    "fig, ax = plt.subplots(figsize=(20,10))\n",
    "rc={'axes.labelsize': 15, 'font.size': 15, 'legend.fontsize': 12, 'axes.titlesize': 18}\n",
    "plt.rcParams.update(**rc)\n",
    "\n",
    "splot=sns.barplot(x='event_dt', y='user_id', data=sample)\n",
    "\n",
    "for p in splot.patches:\n",
    "    splot.annotate(format(p.get_height(), '.0f'), \n",
    "                   (p.get_x() + p.get_width() / 2., p.get_height()), \n",
    "                   ha = 'center', va = 'center', \n",
    "                   xytext = (0, 9), \n",
    "                   textcoords = 'offset points')\n",
    "    \n",
    "plt.xticks(rotation=37)           \n",
    "plt.xlabel(None)\n",
    "plt.title('Events distribution by date in group B')\n",
    "plt.ylabel(None)\n",
    "plt.show()"
   ]
  },
  {
   "cell_type": "markdown",
   "metadata": {},
   "source": [
    "In group B, the number of events fluctuates around 100-300 from December 7 to 23 and drops to 51 per day (December 29) until the end of the observation period. Only 2 events happened on December 30."
   ]
  },
  {
   "cell_type": "code",
   "execution_count": null,
   "metadata": {},
   "outputs": [],
   "source": [
    "users_count_A = events_A.groupby('event_name').agg({'user_id': 'nunique'}).sort_values(by='user_id', ascending=False).reset_index()\n",
    "users_count_A['%'] = round(100 * users_count_A['user_id'] / events_A['user_id'].nunique(),2)\n",
    "\n",
    "display(users_count_A)"
   ]
  },
  {
   "cell_type": "code",
   "execution_count": null,
   "metadata": {},
   "outputs": [],
   "source": [
    "users_count_B = events_B.groupby('event_name').agg({'user_id': 'nunique'}).sort_values(by='user_id', ascending=False).reset_index()\n",
    "users_count_B['%'] = round(100 * users_count_B['user_id'] / events_B['user_id'].nunique(),2)\n",
    "\n",
    "display(users_count_B)"
   ]
  },
  {
   "cell_type": "markdown",
   "metadata": {},
   "source": [
    "100% of all users in Group A of this test log in, 65% view the offer screen, 30% reach the shopping cart, and 32% complete the purchase.\n",
    "\n",
    "100% of all Group B users in this test log in, 56% view the offer screen, 28% reach the shopping cart, and 29% complete the purchase.\n",
    "\n",
    "In a correct funnel, the percentage of users who paid for the product should be less than the % of users who reached the cart.\n",
    "It can be assumed that the user returns to pay for the product after some time (after clicking on the link from the SMS or email newsletter)."
   ]
  },
  {
   "cell_type": "code",
   "execution_count": null,
   "metadata": {},
   "outputs": [],
   "source": [
    "fig = go.Figure(\n",
    "    go.Funnel(\n",
    "        y=[\n",
    "            'registration',\n",
    "            'offer screen',\n",
    "            'product cart',\n",
    "            'successful purchase',\n",
    "        ],\n",
    "        x=[users_count_A['user_id'][0], users_count_A['user_id'][1], users_count_A['user_id'][3],users_count_A['user_id'][2]],\n",
    "    )\n",
    ")\n",
    "fig.update_layout(title={'text': 'Funnel for group A'})           \n",
    "fig.show() "
   ]
  },
  {
   "cell_type": "code",
   "execution_count": null,
   "metadata": {},
   "outputs": [],
   "source": [
    "fig = go.Figure(\n",
    "    go.Funnel(\n",
    "        y=[\n",
    "            'registration',\n",
    "            'offer screen',\n",
    "            'product cart',\n",
    "            'successful purchase',\n",
    "        ],\n",
    "        x=[users_count_B['user_id'][0], users_count_B['user_id'][1], users_count_B['user_id'][3],users_count_B['user_id'][2]],\n",
    "    )\n",
    ") \n",
    "fig.update_layout(title={'text': 'Funnel for group B'})\n",
    "fig.show() "
   ]
  },
  {
   "cell_type": "code",
   "execution_count": null,
   "metadata": {},
   "outputs": [],
   "source": [
    "types_count = events_A.groupby('event_name').agg({'user_id': 'count'}).sort_values(by='user_id', ascending=False).reset_index()\n",
    "types_count['%'] = types_count['user_id'] / types_count['user_id'].sum()\n",
    "\n",
    "fig, ax = plt.subplots(figsize=(15,7))\n",
    "rc={'axes.labelsize': 15, 'font.size': 12, 'legend.fontsize': 15, 'axes.titlesize': 15}\n",
    "plt.rcParams.update(**rc)\n",
    "\n",
    "splot=sns.barplot(x='event_name', y='%', data=types_count)\n",
    "\n",
    "for p in splot.patches:\n",
    "    splot.annotate(format(p.get_height(), '.3f'), \n",
    "                   (p.get_x() + p.get_width() / 2., p.get_height()), \n",
    "                   ha = 'center', va = 'center', \n",
    "                   xytext = (0, 9), \n",
    "                   textcoords = 'offset points')\n",
    "            \n",
    "plt.xlabel(None)\n",
    "plt.title('Events Share by Type in Group A')\n",
    "plt.ylabel(None)\n",
    "plt.show()"
   ]
  },
  {
   "cell_type": "code",
   "execution_count": null,
   "metadata": {},
   "outputs": [],
   "source": [
    "types_count = events_B.groupby('event_name').agg({'user_id': 'count'}).sort_values(by='user_id', ascending=False).reset_index()\n",
    "types_count['%'] = types_count['user_id'] / types_count['user_id'].sum()\n",
    "\n",
    "fig, ax = plt.subplots(figsize=(15,7))\n",
    "rc={'axes.labelsize': 15, 'font.size': 12, 'legend.fontsize': 15, 'axes.titlesize': 15}\n",
    "plt.rcParams.update(**rc)\n",
    "\n",
    "splot=sns.barplot(x='event_name', y='%', data=types_count)\n",
    "\n",
    "for p in splot.patches:\n",
    "    splot.annotate(format(p.get_height(), '.3f'), \n",
    "                   (p.get_x() + p.get_width() / 2., p.get_height()), \n",
    "                   ha = 'center', va = 'center', \n",
    "                   xytext = (0, 9), \n",
    "                   textcoords = 'offset points')\n",
    "            \n",
    "plt.xlabel(None)\n",
    "plt.title('Events Share by Type in Group B')\n",
    "plt.ylabel(None)\n",
    "plt.show()"
   ]
  },
  {
   "cell_type": "markdown",
   "metadata": {},
   "source": [
    "The data has been processed. Now the users and events fit the description of the test terms.\n",
    "\n",
    "There are no users belonging to two groups at the same time.\n",
    "\n",
    "The shares of events in groups A and B are approximately the same, we can proceed to the analysis of the A/B test."
   ]
  },
  {
   "cell_type": "markdown",
   "metadata": {},
   "source": [
    "## 5. A/B Test Analysis"
   ]
  },
  {
   "cell_type": "markdown",
   "metadata": {},
   "source": [
    "### 5.1 Creating a dataframe with conversion rates for both groups (we'll start from login->product page conversion)"
   ]
  },
  {
   "cell_type": "code",
   "execution_count": null,
   "metadata": {},
   "outputs": [],
   "source": [
    "sample = pd.pivot_table(events, index ='event_name', columns ='group', values='user_id',aggfunc=pd.Series.nunique)\n",
    "sample = sample.rename_axis(None).reset_index()\n",
    "sample = sample.rename(columns={'index': 'event'})\n",
    "print(sample)"
   ]
  },
  {
   "cell_type": "code",
   "execution_count": null,
   "metadata": {},
   "outputs": [],
   "source": [
    "sample['A'] = sample['A'].astype(float)\n",
    "sample['B'] = sample['B'].astype(float)\n",
    "\n",
    "sample['A'][1] = round(sample['A'][1] / sample['A'][0],4)\n",
    "sample['A'][2] = round(sample['A'][2] / sample['A'][0],4)\n",
    "sample['A'][3] = round(sample['A'][3] / sample['A'][0],4)\n",
    "\n",
    "sample['B'][1] = round(sample['B'][1] / sample['B'][0],4)\n",
    "sample['B'][2] = round(sample['B'][2] / sample['B'][0],4)\n",
    "sample['B'][3] = round(sample['B'][3] / sample['B'][0],4)\n",
    "\n",
    "sample=sample.drop(0)"
   ]
  },
  {
   "cell_type": "code",
   "execution_count": null,
   "metadata": {},
   "outputs": [],
   "source": [
    "sample"
   ]
  },
  {
   "cell_type": "markdown",
   "metadata": {},
   "source": [
    "### 5.2 Choosing a threshold value for testing hypotheses"
   ]
  },
  {
   "cell_type": "markdown",
   "metadata": {},
   "source": [
    "We'll need to run a multiple test (4 tests) with a significance level of 0.01 to check whether the introduction of an improved recommender system will affect user conversion and % of payments.\n",
    "\n",
    "The probability of making a mistake at least once in 4 comparisons here is: 1-(1-0.01)^4 = 0.039 or 3.9%."
   ]
  },
  {
   "cell_type": "markdown",
   "metadata": {},
   "source": [
    "### 5.3 Defining the function for testing the hypothesis of equality of shares using the z test"
   ]
  },
  {
   "cell_type": "markdown",
   "metadata": {},
   "source": [
    "Let's define the function for checking the hypothesis about the equality of shares **check**:\n",
    "\n",
    "- k1 and k2 - the number of unique users in groups 1 and 2 who had a crertain event\n",
    "- n1 and n2 - number of unique users in groups 1 and 2\n",
    "- alpha - level of statistical significance\n",
    "\n",
    "**Null hypothesis** - the proportions of users who performed a certain action in two samples are equal\n",
    "\n",
    "**Alternative hypothesis** - the proportions of users who have completed a certain action differ in the two samples.\n",
    "\n",
    "**Criterion:** if p_value < alpha, then we reject the null hypothesis: in 100*(1-alpha)% of cases there is a significant difference between the shares"
   ]
  },
  {
   "cell_type": "code",
   "execution_count": null,
   "metadata": {},
   "outputs": [],
   "source": [
    "def check(k1,k2,n1,n2,alpha):\n",
    "\n",
    "    trials = np.array([n1, n2])\n",
    "    successes = np.array([k1, k2])\n",
    "    \n",
    "    p1 = successes[0]/trials[0] \n",
    "    p2 = successes[1]/trials[1]\n",
    "    p_combined = (successes[0] + successes[1]) / (trials[0] + trials[1])\n",
    "    difference = p1 - p2 \n",
    "    \n",
    "    z_value = difference / mth.sqrt(p_combined * (1 - p_combined) * (1/trials[0] + 1/trials[1]))\n",
    "    \n",
    "    distr = st.norm(0, 1)  \n",
    "    \n",
    "    z_value = difference / mth.sqrt(\n",
    "        p_combined * (1 - p_combined) * (1 / trials[0] + 1 / trials[1]))\n",
    "\n",
    "    distr = st.norm(0, 1)\n",
    "    p_value = (1 - distr.cdf(abs(z_value))) * 2\n",
    "    \n",
    "    \n",
    "    print(trials, successes)\n",
    "\n",
    "    if p_value < alpha:\n",
    "        print('p-value: ', round(p_value,2), '\\nRejecting the null hypothesis: the shares are different')\n",
    "    else:\n",
    "        print('p-value: ', round(p_value,2), '\\nNo reason to reject the null hupothesis: the shares are equal') "
   ]
  },
  {
   "cell_type": "code",
   "execution_count": null,
   "metadata": {},
   "outputs": [],
   "source": [
    "#let's call the function for checking the hypothesis about the equality of the shares of unique users for all events from our chain\n",
    "for i in range(1,4):\n",
    "    print('For event', sample['event'][i])\n",
    "    check(sample['A'][i],sample['B'][i],sample['A'].sum(),sample['B'].sum(),0.004)\n",
    "    print()"
   ]
  },
  {
   "cell_type": "markdown",
   "metadata": {},
   "source": [
    "*Conclusion:* The introduction of an improved recommender system does not affect the conversion of users from login to the product view, from a product view to shopping cart and from a shopping cart to purchase in 96% of cases, which means that there is no expected effect of increasing conversion by 10%."
   ]
  },
  {
   "cell_type": "markdown",
   "metadata": {},
   "source": [
    "## 6. Conslusion\n",
    "\n",
    "The test period overlaps with the Christmas&New Year Promo marketing campaign that ran from 2020-12-25 to 2021-01-03 and the competing AB test.\n",
    "\n",
    "1. In this task, we did not delete data on events that occurred before 2020-12-25 from the dataset (since there will be only 2340 events for 1530 participants, and the initial expected number of participants is 6000) and since this advertising campaign should equally affect both users from group A, and users from group B. But in future real tests we will try to avoid these intersections.\n",
    "2. All users that overlap with the competing test have been removed.\n",
    "3. All non-European users have been removed.\n",
    "\n",
    "There are 4749 unique users left that match the description of the test terms. There are no users belonging to two groups at the same time. The test covers 11% of new users from Europe registered between December 7 and 21.\n",
    "This is less than stated in the test terms (6000 users and 15% of all registered).\n",
    "\n",
    "Out of 4749 new unique users, only 1939 from group A and 654 from group B logged in during the test period.\n",
    "\n",
    "100% of all users in Group A of this test log in, 65% view the offer screen, 30% reach the shopping cart, and 32% complete the purchase.\n",
    "\n",
    "100% of all Group B users in this test log in, 56% view the offer screen, 28% reach the shopping cart, and 29% complete the purchase.\n",
    "\n",
    "In a correct funnel, the percentage of users who paid for the product should be less than the % of users who reached the cart. It can be assumed that the user returns to pay for the product after some time (after clicking on the link from the SMS or email newsletter).\n",
    "\n",
    "**If we assume that the test is valid and move on to the analysis, then according to the z test, the introduction of an improved recommender system does not affect the conversion of users from login to product page, shopping cart and purchase in 96% of cases, and hence there is no 10% increase in conversion.**"
   ]
  },
  {
   "cell_type": "code",
   "execution_count": null,
   "metadata": {},
   "outputs": [],
   "source": []
  }
 ],
 "metadata": {
  "ExecuteTimeLog": [
   {
    "duration": 289,
    "start_time": "2022-01-21T12:30:45.621Z"
   },
   {
    "duration": 1962,
    "start_time": "2022-01-21T12:30:49.585Z"
   },
   {
    "duration": 33,
    "start_time": "2022-01-21T12:30:52.992Z"
   },
   {
    "duration": 31,
    "start_time": "2022-01-21T12:31:03.573Z"
   },
   {
    "duration": 1952,
    "start_time": "2022-01-21T12:31:08.503Z"
   },
   {
    "duration": 118,
    "start_time": "2022-01-21T12:31:19.545Z"
   },
   {
    "duration": 660,
    "start_time": "2022-01-21T12:31:32.345Z"
   },
   {
    "duration": 79,
    "start_time": "2022-01-21T12:31:35.495Z"
   },
   {
    "duration": 2006,
    "start_time": "2022-01-22T10:19:15.187Z"
   },
   {
    "duration": 62,
    "start_time": "2022-01-22T10:19:17.196Z"
   },
   {
    "duration": 247,
    "start_time": "2022-01-22T10:19:17.261Z"
   },
   {
    "duration": 896,
    "start_time": "2022-01-22T10:19:17.512Z"
   },
   {
    "duration": 532,
    "start_time": "2022-01-22T10:19:18.411Z"
   },
   {
    "duration": 374,
    "start_time": "2022-01-22T10:19:18.572Z"
   },
   {
    "duration": 373,
    "start_time": "2022-01-22T10:19:18.575Z"
   },
   {
    "duration": 51,
    "start_time": "2022-01-22T10:19:32.243Z"
   },
   {
    "duration": 54,
    "start_time": "2022-01-22T10:19:35.502Z"
   },
   {
    "duration": 107794,
    "start_time": "2022-01-22T10:19:38.539Z"
   },
   {
    "duration": 292,
    "start_time": "2022-01-22T10:21:26.336Z"
   },
   {
    "duration": 322,
    "start_time": "2022-01-22T10:21:47.140Z"
   },
   {
    "duration": 10,
    "start_time": "2022-01-22T10:21:56.314Z"
   },
   {
    "duration": 9,
    "start_time": "2022-01-22T10:23:28.252Z"
   },
   {
    "duration": 64,
    "start_time": "2022-01-22T10:24:43.519Z"
   },
   {
    "duration": 50,
    "start_time": "2022-01-22T10:24:54.342Z"
   },
   {
    "duration": 55,
    "start_time": "2022-01-22T10:25:04.978Z"
   },
   {
    "duration": 53,
    "start_time": "2022-01-22T10:25:22.572Z"
   },
   {
    "duration": 2101,
    "start_time": "2022-01-22T10:25:32.753Z"
   },
   {
    "duration": 41,
    "start_time": "2022-01-22T10:25:34.857Z"
   },
   {
    "duration": 113,
    "start_time": "2022-01-22T10:25:34.901Z"
   },
   {
    "duration": 691,
    "start_time": "2022-01-22T10:25:35.018Z"
   },
   {
    "duration": 54,
    "start_time": "2022-01-22T10:25:35.712Z"
   },
   {
    "duration": 11,
    "start_time": "2022-01-22T10:25:35.769Z"
   },
   {
    "duration": 87,
    "start_time": "2022-01-22T10:25:35.783Z"
   },
   {
    "duration": 105190,
    "start_time": "2022-01-22T10:25:35.874Z"
   },
   {
    "duration": 55,
    "start_time": "2022-01-22T10:27:21.068Z"
   },
   {
    "duration": 1933,
    "start_time": "2022-01-22T10:47:30.880Z"
   },
   {
    "duration": 43,
    "start_time": "2022-01-22T10:47:32.816Z"
   },
   {
    "duration": 122,
    "start_time": "2022-01-22T10:47:32.863Z"
   },
   {
    "duration": 682,
    "start_time": "2022-01-22T10:47:32.989Z"
   },
   {
    "duration": 58,
    "start_time": "2022-01-22T10:47:33.674Z"
   },
   {
    "duration": 8,
    "start_time": "2022-01-22T10:47:33.734Z"
   },
   {
    "duration": 82,
    "start_time": "2022-01-22T10:47:33.745Z"
   },
   {
    "duration": 108208,
    "start_time": "2022-01-22T10:47:33.830Z"
   },
   {
    "duration": 497,
    "start_time": "2022-01-22T10:49:23.700Z"
   },
   {
    "duration": 20,
    "start_time": "2022-01-22T10:50:02.014Z"
   },
   {
    "duration": 22,
    "start_time": "2022-01-22T10:50:17.723Z"
   },
   {
    "duration": 22,
    "start_time": "2022-01-22T10:50:28.782Z"
   },
   {
    "duration": 2268,
    "start_time": "2022-01-22T10:50:37.306Z"
   },
   {
    "duration": 41,
    "start_time": "2022-01-22T10:50:39.577Z"
   },
   {
    "duration": 617,
    "start_time": "2022-01-22T10:50:39.621Z"
   },
   {
    "duration": -1015,
    "start_time": "2022-01-22T10:50:41.256Z"
   },
   {
    "duration": -1116,
    "start_time": "2022-01-22T10:50:41.359Z"
   },
   {
    "duration": -1124,
    "start_time": "2022-01-22T10:50:41.368Z"
   },
   {
    "duration": -1124,
    "start_time": "2022-01-22T10:50:41.370Z"
   },
   {
    "duration": -1125,
    "start_time": "2022-01-22T10:50:41.373Z"
   },
   {
    "duration": -1125,
    "start_time": "2022-01-22T10:50:41.375Z"
   },
   {
    "duration": 15,
    "start_time": "2022-01-22T10:51:32.595Z"
   },
   {
    "duration": 19,
    "start_time": "2022-01-22T10:52:03.257Z"
   },
   {
    "duration": 339,
    "start_time": "2022-01-22T10:54:39.908Z"
   },
   {
    "duration": 414,
    "start_time": "2022-01-22T10:54:49.608Z"
   },
   {
    "duration": 303,
    "start_time": "2022-01-22T10:54:59.475Z"
   },
   {
    "duration": 1209,
    "start_time": "2022-01-22T10:55:51.796Z"
   },
   {
    "duration": 104,
    "start_time": "2022-01-22T10:57:08.733Z"
   },
   {
    "duration": 102,
    "start_time": "2022-01-22T10:57:26.448Z"
   },
   {
    "duration": 101,
    "start_time": "2022-01-22T10:57:35.074Z"
   },
   {
    "duration": 306,
    "start_time": "2022-01-22T10:57:45.553Z"
   },
   {
    "duration": 286,
    "start_time": "2022-01-22T10:57:45.575Z"
   },
   {
    "duration": 14,
    "start_time": "2022-01-22T10:58:11.484Z"
   },
   {
    "duration": 2048,
    "start_time": "2022-01-22T10:58:43.144Z"
   },
   {
    "duration": 517,
    "start_time": "2022-01-22T10:58:45.195Z"
   },
   {
    "duration": 399,
    "start_time": "2022-01-22T10:58:45.316Z"
   },
   {
    "duration": 398,
    "start_time": "2022-01-22T10:58:45.318Z"
   },
   {
    "duration": 396,
    "start_time": "2022-01-22T10:58:45.321Z"
   },
   {
    "duration": 290,
    "start_time": "2022-01-22T10:58:45.429Z"
   },
   {
    "duration": 288,
    "start_time": "2022-01-22T10:58:45.433Z"
   },
   {
    "duration": 287,
    "start_time": "2022-01-22T10:58:45.435Z"
   },
   {
    "duration": 287,
    "start_time": "2022-01-22T10:58:45.437Z"
   },
   {
    "duration": 2125,
    "start_time": "2022-01-22T10:58:54.577Z"
   },
   {
    "duration": 42,
    "start_time": "2022-01-22T10:58:56.705Z"
   },
   {
    "duration": 496,
    "start_time": "2022-01-22T10:58:56.751Z"
   },
   {
    "duration": 277,
    "start_time": "2022-01-22T10:58:56.973Z"
   },
   {
    "duration": 276,
    "start_time": "2022-01-22T10:58:56.976Z"
   },
   {
    "duration": 274,
    "start_time": "2022-01-22T10:58:56.979Z"
   },
   {
    "duration": 275,
    "start_time": "2022-01-22T10:58:56.980Z"
   },
   {
    "duration": 273,
    "start_time": "2022-01-22T10:58:56.983Z"
   },
   {
    "duration": 272,
    "start_time": "2022-01-22T10:58:56.985Z"
   },
   {
    "duration": 25,
    "start_time": "2022-01-22T10:59:07.045Z"
   },
   {
    "duration": 41,
    "start_time": "2022-01-22T11:00:17.374Z"
   },
   {
    "duration": 117,
    "start_time": "2022-01-22T11:00:49.566Z"
   },
   {
    "duration": 132,
    "start_time": "2022-01-22T11:02:00.323Z"
   },
   {
    "duration": 697,
    "start_time": "2022-01-22T11:02:43.367Z"
   },
   {
    "duration": 841,
    "start_time": "2022-01-22T11:03:10.824Z"
   },
   {
    "duration": 49,
    "start_time": "2022-01-22T11:03:50.823Z"
   },
   {
    "duration": 324,
    "start_time": "2022-01-22T11:04:50.495Z"
   },
   {
    "duration": 308,
    "start_time": "2022-01-22T11:05:01.757Z"
   },
   {
    "duration": 295,
    "start_time": "2022-01-22T11:05:06.059Z"
   },
   {
    "duration": 1167,
    "start_time": "2022-01-22T11:05:16.073Z"
   },
   {
    "duration": 49,
    "start_time": "2022-01-22T11:05:32.749Z"
   },
   {
    "duration": 10,
    "start_time": "2022-01-22T11:06:06.589Z"
   },
   {
    "duration": 235,
    "start_time": "2022-01-22T15:43:28.131Z"
   },
   {
    "duration": 1385,
    "start_time": "2022-01-22T15:43:33.204Z"
   },
   {
    "duration": 32,
    "start_time": "2022-01-22T15:43:34.590Z"
   },
   {
    "duration": 89,
    "start_time": "2022-01-22T15:43:34.624Z"
   },
   {
    "duration": 543,
    "start_time": "2022-01-22T15:43:34.714Z"
   },
   {
    "duration": 37,
    "start_time": "2022-01-22T15:43:35.258Z"
   },
   {
    "duration": 50,
    "start_time": "2022-01-22T15:43:35.296Z"
   },
   {
    "duration": 6,
    "start_time": "2022-01-22T15:43:35.347Z"
   },
   {
    "duration": 16,
    "start_time": "2022-01-22T15:43:35.355Z"
   },
   {
    "duration": 7,
    "start_time": "2022-01-22T15:43:35.373Z"
   },
   {
    "duration": 49,
    "start_time": "2022-01-22T15:43:35.382Z"
   },
   {
    "duration": 56035,
    "start_time": "2022-01-22T15:43:35.433Z"
   },
   {
    "duration": 7,
    "start_time": "2022-01-22T15:45:06.483Z"
   },
   {
    "duration": 13,
    "start_time": "2022-01-22T15:47:52.659Z"
   },
   {
    "duration": 13,
    "start_time": "2022-01-22T15:49:41.958Z"
   },
   {
    "duration": 1690,
    "start_time": "2022-01-22T15:54:16.904Z"
   },
   {
    "duration": 34,
    "start_time": "2022-01-22T15:54:18.596Z"
   },
   {
    "duration": 100,
    "start_time": "2022-01-22T15:54:18.632Z"
   },
   {
    "duration": 586,
    "start_time": "2022-01-22T15:54:18.734Z"
   },
   {
    "duration": 37,
    "start_time": "2022-01-22T15:54:19.322Z"
   },
   {
    "duration": 51,
    "start_time": "2022-01-22T15:54:19.361Z"
   },
   {
    "duration": 7,
    "start_time": "2022-01-22T15:54:19.414Z"
   },
   {
    "duration": 13,
    "start_time": "2022-01-22T15:54:19.423Z"
   },
   {
    "duration": 2280,
    "start_time": "2022-01-22T15:54:19.438Z"
   },
   {
    "duration": 5,
    "start_time": "2022-01-22T15:54:21.720Z"
   },
   {
    "duration": 7,
    "start_time": "2022-01-22T15:54:21.727Z"
   },
   {
    "duration": 16,
    "start_time": "2022-01-22T15:54:21.736Z"
   },
   {
    "duration": 3,
    "start_time": "2022-01-22T15:54:21.753Z"
   },
   {
    "duration": 7,
    "start_time": "2022-01-22T15:55:18.599Z"
   },
   {
    "duration": 6,
    "start_time": "2022-01-22T15:55:29.919Z"
   },
   {
    "duration": 1442,
    "start_time": "2022-01-22T15:56:06.821Z"
   },
   {
    "duration": 33,
    "start_time": "2022-01-22T15:56:08.264Z"
   },
   {
    "duration": 87,
    "start_time": "2022-01-22T15:56:08.299Z"
   },
   {
    "duration": 552,
    "start_time": "2022-01-22T15:56:08.388Z"
   },
   {
    "duration": 37,
    "start_time": "2022-01-22T15:56:08.941Z"
   },
   {
    "duration": 49,
    "start_time": "2022-01-22T15:56:08.980Z"
   },
   {
    "duration": 7,
    "start_time": "2022-01-22T15:56:09.030Z"
   },
   {
    "duration": 19,
    "start_time": "2022-01-22T15:56:09.039Z"
   },
   {
    "duration": 2213,
    "start_time": "2022-01-22T15:56:09.059Z"
   },
   {
    "duration": 5,
    "start_time": "2022-01-22T15:56:11.274Z"
   },
   {
    "duration": 5,
    "start_time": "2022-01-22T15:56:11.281Z"
   },
   {
    "duration": 17,
    "start_time": "2022-01-22T15:56:11.287Z"
   },
   {
    "duration": 7,
    "start_time": "2022-01-22T15:56:11.305Z"
   },
   {
    "duration": 355,
    "start_time": "2022-01-22T16:01:06.140Z"
   },
   {
    "duration": 8,
    "start_time": "2022-01-22T16:01:20.540Z"
   },
   {
    "duration": 8,
    "start_time": "2022-01-22T16:03:34.826Z"
   },
   {
    "duration": 559,
    "start_time": "2022-01-22T16:03:37.068Z"
   },
   {
    "duration": 38,
    "start_time": "2022-01-22T16:04:03.742Z"
   },
   {
    "duration": 16,
    "start_time": "2022-01-22T16:11:22.297Z"
   },
   {
    "duration": 15,
    "start_time": "2022-01-22T16:11:41.133Z"
   },
   {
    "duration": 48,
    "start_time": "2022-01-22T16:12:10.445Z"
   },
   {
    "duration": 125,
    "start_time": "2022-01-22T16:12:48.814Z"
   },
   {
    "duration": 121,
    "start_time": "2022-01-22T16:12:54.929Z"
   },
   {
    "duration": 6,
    "start_time": "2022-01-22T16:13:17.790Z"
   },
   {
    "duration": 48,
    "start_time": "2022-01-22T16:20:40.234Z"
   },
   {
    "duration": 1426,
    "start_time": "2022-01-22T16:21:25.939Z"
   },
   {
    "duration": 33,
    "start_time": "2022-01-22T16:21:27.367Z"
   },
   {
    "duration": 93,
    "start_time": "2022-01-22T16:21:27.403Z"
   },
   {
    "duration": 17,
    "start_time": "2022-01-22T16:21:27.498Z"
   },
   {
    "duration": 19,
    "start_time": "2022-01-22T16:21:27.517Z"
   },
   {
    "duration": 586,
    "start_time": "2022-01-22T16:21:27.538Z"
   },
   {
    "duration": 40,
    "start_time": "2022-01-22T16:21:28.126Z"
   },
   {
    "duration": 167,
    "start_time": "2022-01-22T16:21:28.169Z"
   },
   {
    "duration": 42,
    "start_time": "2022-01-22T16:21:28.339Z"
   },
   {
    "duration": 49,
    "start_time": "2022-01-22T16:21:28.383Z"
   },
   {
    "duration": 10,
    "start_time": "2022-01-22T16:21:28.434Z"
   },
   {
    "duration": 8,
    "start_time": "2022-01-22T16:21:28.446Z"
   },
   {
    "duration": 16,
    "start_time": "2022-01-22T16:21:28.456Z"
   },
   {
    "duration": 2257,
    "start_time": "2022-01-22T16:21:28.474Z"
   },
   {
    "duration": 6,
    "start_time": "2022-01-22T16:21:30.733Z"
   },
   {
    "duration": 8,
    "start_time": "2022-01-22T16:21:30.741Z"
   },
   {
    "duration": 17,
    "start_time": "2022-01-22T16:21:30.750Z"
   },
   {
    "duration": 60,
    "start_time": "2022-01-22T16:21:30.769Z"
   },
   {
    "duration": 1398,
    "start_time": "2022-01-22T16:23:28.778Z"
   },
   {
    "duration": 35,
    "start_time": "2022-01-22T16:23:30.178Z"
   },
   {
    "duration": 100,
    "start_time": "2022-01-22T16:23:30.215Z"
   },
   {
    "duration": 6,
    "start_time": "2022-01-22T16:23:30.317Z"
   },
   {
    "duration": 6,
    "start_time": "2022-01-22T16:23:30.325Z"
   },
   {
    "duration": 574,
    "start_time": "2022-01-22T16:23:30.332Z"
   },
   {
    "duration": 39,
    "start_time": "2022-01-22T16:23:30.907Z"
   },
   {
    "duration": 160,
    "start_time": "2022-01-22T16:23:30.948Z"
   },
   {
    "duration": 38,
    "start_time": "2022-01-22T16:23:31.111Z"
   },
   {
    "duration": 33,
    "start_time": "2022-01-22T16:23:31.151Z"
   },
   {
    "duration": 7,
    "start_time": "2022-01-22T16:23:31.186Z"
   },
   {
    "duration": 23,
    "start_time": "2022-01-22T16:23:31.195Z"
   },
   {
    "duration": 19,
    "start_time": "2022-01-22T16:23:31.219Z"
   },
   {
    "duration": 2195,
    "start_time": "2022-01-22T16:23:31.240Z"
   },
   {
    "duration": 5,
    "start_time": "2022-01-22T16:23:33.437Z"
   },
   {
    "duration": 5,
    "start_time": "2022-01-22T16:23:33.444Z"
   },
   {
    "duration": 15,
    "start_time": "2022-01-22T16:23:33.450Z"
   },
   {
    "duration": 9,
    "start_time": "2022-01-22T16:23:33.467Z"
   },
   {
    "duration": 1439,
    "start_time": "2022-01-22T16:25:47.512Z"
   },
   {
    "duration": 32,
    "start_time": "2022-01-22T16:25:48.953Z"
   },
   {
    "duration": 92,
    "start_time": "2022-01-22T16:25:48.988Z"
   },
   {
    "duration": 8,
    "start_time": "2022-01-22T16:25:49.082Z"
   },
   {
    "duration": 29,
    "start_time": "2022-01-22T16:25:49.092Z"
   },
   {
    "duration": 581,
    "start_time": "2022-01-22T16:25:49.123Z"
   },
   {
    "duration": 41,
    "start_time": "2022-01-22T16:25:49.706Z"
   },
   {
    "duration": 151,
    "start_time": "2022-01-22T16:25:49.750Z"
   },
   {
    "duration": 53,
    "start_time": "2022-01-22T16:25:49.904Z"
   },
   {
    "duration": 34,
    "start_time": "2022-01-22T16:25:49.959Z"
   },
   {
    "duration": 20,
    "start_time": "2022-01-22T16:25:49.994Z"
   },
   {
    "duration": 7,
    "start_time": "2022-01-22T16:25:50.016Z"
   },
   {
    "duration": 19,
    "start_time": "2022-01-22T16:25:50.024Z"
   },
   {
    "duration": 2182,
    "start_time": "2022-01-22T16:25:50.045Z"
   },
   {
    "duration": 5,
    "start_time": "2022-01-22T16:25:52.228Z"
   },
   {
    "duration": 7,
    "start_time": "2022-01-22T16:25:52.234Z"
   },
   {
    "duration": 16,
    "start_time": "2022-01-22T16:25:52.242Z"
   },
   {
    "duration": 27,
    "start_time": "2022-01-22T16:25:52.259Z"
   },
   {
    "duration": 6,
    "start_time": "2022-01-22T16:26:46.578Z"
   },
   {
    "duration": 29,
    "start_time": "2022-01-22T16:26:50.928Z"
   },
   {
    "duration": 5086,
    "start_time": "2022-01-22T16:29:14.376Z"
   },
   {
    "duration": 1388,
    "start_time": "2022-01-22T16:29:36.475Z"
   },
   {
    "duration": 34,
    "start_time": "2022-01-22T16:29:37.865Z"
   },
   {
    "duration": 89,
    "start_time": "2022-01-22T16:29:37.901Z"
   },
   {
    "duration": 8,
    "start_time": "2022-01-22T16:29:37.991Z"
   },
   {
    "duration": 25,
    "start_time": "2022-01-22T16:29:38.001Z"
   },
   {
    "duration": 560,
    "start_time": "2022-01-22T16:29:38.027Z"
   },
   {
    "duration": 45,
    "start_time": "2022-01-22T16:29:38.589Z"
   },
   {
    "duration": 156,
    "start_time": "2022-01-22T16:29:38.637Z"
   },
   {
    "duration": 54,
    "start_time": "2022-01-22T16:29:38.795Z"
   },
   {
    "duration": 37,
    "start_time": "2022-01-22T16:29:38.851Z"
   },
   {
    "duration": 10,
    "start_time": "2022-01-22T16:29:38.890Z"
   },
   {
    "duration": 8,
    "start_time": "2022-01-22T16:29:38.912Z"
   },
   {
    "duration": 15,
    "start_time": "2022-01-22T16:29:38.922Z"
   },
   {
    "duration": 2174,
    "start_time": "2022-01-22T16:29:38.938Z"
   },
   {
    "duration": 7,
    "start_time": "2022-01-22T16:29:41.114Z"
   },
   {
    "duration": 6,
    "start_time": "2022-01-22T16:29:41.122Z"
   },
   {
    "duration": 17,
    "start_time": "2022-01-22T16:29:41.130Z"
   },
   {
    "duration": 29,
    "start_time": "2022-01-22T16:29:41.149Z"
   },
   {
    "duration": 6,
    "start_time": "2022-01-22T16:29:41.212Z"
   },
   {
    "duration": 6,
    "start_time": "2022-01-22T16:29:41.220Z"
   },
   {
    "duration": 7,
    "start_time": "2022-01-22T16:30:30.091Z"
   },
   {
    "duration": 7,
    "start_time": "2022-01-22T16:31:49.817Z"
   },
   {
    "duration": 9,
    "start_time": "2022-01-22T16:37:13.914Z"
   },
   {
    "duration": 122,
    "start_time": "2022-01-22T16:39:26.223Z"
   },
   {
    "duration": 72,
    "start_time": "2022-01-22T16:41:07.722Z"
   },
   {
    "duration": 301,
    "start_time": "2022-01-22T16:42:43.017Z"
   },
   {
    "duration": 12,
    "start_time": "2022-01-22T16:42:55.980Z"
   },
   {
    "duration": 9,
    "start_time": "2022-01-22T16:45:24.055Z"
   },
   {
    "duration": 8,
    "start_time": "2022-01-22T16:45:59.070Z"
   },
   {
    "duration": 6,
    "start_time": "2022-01-22T16:48:41.971Z"
   },
   {
    "duration": 6,
    "start_time": "2022-01-22T16:49:54.550Z"
   },
   {
    "duration": 6,
    "start_time": "2022-01-22T16:49:56.134Z"
   },
   {
    "duration": 7,
    "start_time": "2022-01-22T16:50:05.019Z"
   },
   {
    "duration": 1387,
    "start_time": "2022-01-22T16:53:56.179Z"
   },
   {
    "duration": 32,
    "start_time": "2022-01-22T16:53:57.568Z"
   },
   {
    "duration": 91,
    "start_time": "2022-01-22T16:53:57.602Z"
   },
   {
    "duration": 18,
    "start_time": "2022-01-22T16:53:57.695Z"
   },
   {
    "duration": 17,
    "start_time": "2022-01-22T16:53:57.715Z"
   },
   {
    "duration": 562,
    "start_time": "2022-01-22T16:53:57.733Z"
   },
   {
    "duration": 43,
    "start_time": "2022-01-22T16:53:58.297Z"
   },
   {
    "duration": 149,
    "start_time": "2022-01-22T16:53:58.343Z"
   },
   {
    "duration": 51,
    "start_time": "2022-01-22T16:53:58.494Z"
   },
   {
    "duration": 35,
    "start_time": "2022-01-22T16:53:58.546Z"
   },
   {
    "duration": 8,
    "start_time": "2022-01-22T16:53:58.583Z"
   },
   {
    "duration": 22,
    "start_time": "2022-01-22T16:53:58.592Z"
   },
   {
    "duration": 13,
    "start_time": "2022-01-22T16:53:58.616Z"
   },
   {
    "duration": 2124,
    "start_time": "2022-01-22T16:53:58.630Z"
   },
   {
    "duration": 5,
    "start_time": "2022-01-22T16:54:00.756Z"
   },
   {
    "duration": 8,
    "start_time": "2022-01-22T16:54:00.762Z"
   },
   {
    "duration": 17,
    "start_time": "2022-01-22T16:54:00.771Z"
   },
   {
    "duration": 45,
    "start_time": "2022-01-22T16:54:00.789Z"
   },
   {
    "duration": 6,
    "start_time": "2022-01-22T16:54:00.835Z"
   },
   {
    "duration": 9,
    "start_time": "2022-01-22T16:54:00.842Z"
   },
   {
    "duration": 7,
    "start_time": "2022-01-22T16:54:00.853Z"
   },
   {
    "duration": 9,
    "start_time": "2022-01-22T16:54:00.862Z"
   },
   {
    "duration": 143,
    "start_time": "2022-01-22T16:54:00.874Z"
   },
   {
    "duration": 2,
    "start_time": "2022-01-22T16:54:01.019Z"
   },
   {
    "duration": 11,
    "start_time": "2022-01-22T16:54:01.023Z"
   },
   {
    "duration": 7,
    "start_time": "2022-01-22T16:54:01.035Z"
   },
   {
    "duration": 6,
    "start_time": "2022-01-22T16:54:01.043Z"
   },
   {
    "duration": 559,
    "start_time": "2022-01-22T16:55:56.446Z"
   },
   {
    "duration": 1457,
    "start_time": "2022-01-22T16:58:29.908Z"
   },
   {
    "duration": 33,
    "start_time": "2022-01-22T16:58:31.367Z"
   },
   {
    "duration": 89,
    "start_time": "2022-01-22T16:58:31.402Z"
   },
   {
    "duration": 7,
    "start_time": "2022-01-22T16:58:31.493Z"
   },
   {
    "duration": 29,
    "start_time": "2022-01-22T16:58:31.501Z"
   },
   {
    "duration": 598,
    "start_time": "2022-01-22T16:58:31.531Z"
   },
   {
    "duration": 37,
    "start_time": "2022-01-22T16:58:32.130Z"
   },
   {
    "duration": 166,
    "start_time": "2022-01-22T16:58:32.170Z"
   },
   {
    "duration": 44,
    "start_time": "2022-01-22T16:58:32.338Z"
   },
   {
    "duration": 39,
    "start_time": "2022-01-22T16:58:32.384Z"
   },
   {
    "duration": 8,
    "start_time": "2022-01-22T16:58:32.425Z"
   },
   {
    "duration": 6,
    "start_time": "2022-01-22T16:58:32.435Z"
   },
   {
    "duration": 15,
    "start_time": "2022-01-22T16:58:32.443Z"
   },
   {
    "duration": 2127,
    "start_time": "2022-01-22T16:58:32.459Z"
   },
   {
    "duration": 5,
    "start_time": "2022-01-22T16:58:34.588Z"
   },
   {
    "duration": 6,
    "start_time": "2022-01-22T16:58:34.595Z"
   },
   {
    "duration": 15,
    "start_time": "2022-01-22T16:58:34.612Z"
   },
   {
    "duration": 27,
    "start_time": "2022-01-22T16:58:34.628Z"
   },
   {
    "duration": 5,
    "start_time": "2022-01-22T16:58:34.656Z"
   },
   {
    "duration": 7,
    "start_time": "2022-01-22T16:58:34.663Z"
   },
   {
    "duration": 7,
    "start_time": "2022-01-22T16:58:34.672Z"
   },
   {
    "duration": 8,
    "start_time": "2022-01-22T16:58:34.712Z"
   },
   {
    "duration": 123,
    "start_time": "2022-01-22T16:58:34.723Z"
   },
   {
    "duration": 2,
    "start_time": "2022-01-22T16:58:34.847Z"
   },
   {
    "duration": 9,
    "start_time": "2022-01-22T16:58:34.851Z"
   },
   {
    "duration": 7,
    "start_time": "2022-01-22T16:58:34.861Z"
   },
   {
    "duration": 7,
    "start_time": "2022-01-22T16:58:34.869Z"
   },
   {
    "duration": 332,
    "start_time": "2022-01-22T17:07:22.184Z"
   },
   {
    "duration": 623,
    "start_time": "2022-01-22T17:07:21.895Z"
   },
   {
    "duration": 1378,
    "start_time": "2022-01-22T17:11:58.365Z"
   },
   {
    "duration": 32,
    "start_time": "2022-01-22T17:11:59.745Z"
   },
   {
    "duration": 87,
    "start_time": "2022-01-22T17:11:59.779Z"
   },
   {
    "duration": 7,
    "start_time": "2022-01-22T17:11:59.868Z"
   },
   {
    "duration": 17,
    "start_time": "2022-01-22T17:11:59.877Z"
   },
   {
    "duration": 589,
    "start_time": "2022-01-22T17:11:59.895Z"
   },
   {
    "duration": 47,
    "start_time": "2022-01-22T17:12:00.485Z"
   },
   {
    "duration": 165,
    "start_time": "2022-01-22T17:12:00.534Z"
   },
   {
    "duration": 48,
    "start_time": "2022-01-22T17:12:00.701Z"
   },
   {
    "duration": 33,
    "start_time": "2022-01-22T17:12:00.751Z"
   },
   {
    "duration": 7,
    "start_time": "2022-01-22T17:12:00.786Z"
   },
   {
    "duration": 18,
    "start_time": "2022-01-22T17:12:00.795Z"
   },
   {
    "duration": 14,
    "start_time": "2022-01-22T17:12:00.814Z"
   },
   {
    "duration": 2157,
    "start_time": "2022-01-22T17:12:00.829Z"
   },
   {
    "duration": 5,
    "start_time": "2022-01-22T17:12:02.987Z"
   },
   {
    "duration": 5,
    "start_time": "2022-01-22T17:12:02.994Z"
   },
   {
    "duration": 16,
    "start_time": "2022-01-22T17:12:03.013Z"
   },
   {
    "duration": 27,
    "start_time": "2022-01-22T17:12:03.031Z"
   },
   {
    "duration": 5,
    "start_time": "2022-01-22T17:12:03.059Z"
   },
   {
    "duration": 12,
    "start_time": "2022-01-22T17:12:03.066Z"
   },
   {
    "duration": 10,
    "start_time": "2022-01-22T17:12:03.079Z"
   },
   {
    "duration": 29,
    "start_time": "2022-01-22T17:12:03.091Z"
   },
   {
    "duration": 131,
    "start_time": "2022-01-22T17:12:03.122Z"
   },
   {
    "duration": 2,
    "start_time": "2022-01-22T17:12:03.255Z"
   },
   {
    "duration": 1455,
    "start_time": "2022-01-22T17:16:22.212Z"
   },
   {
    "duration": 32,
    "start_time": "2022-01-22T17:16:23.669Z"
   },
   {
    "duration": 89,
    "start_time": "2022-01-22T17:16:23.703Z"
   },
   {
    "duration": 7,
    "start_time": "2022-01-22T17:16:23.794Z"
   },
   {
    "duration": 16,
    "start_time": "2022-01-22T17:16:23.812Z"
   },
   {
    "duration": 586,
    "start_time": "2022-01-22T17:16:23.830Z"
   },
   {
    "duration": 36,
    "start_time": "2022-01-22T17:16:24.418Z"
   },
   {
    "duration": 172,
    "start_time": "2022-01-22T17:16:24.456Z"
   },
   {
    "duration": 49,
    "start_time": "2022-01-22T17:16:24.630Z"
   },
   {
    "duration": 39,
    "start_time": "2022-01-22T17:16:24.680Z"
   },
   {
    "duration": 8,
    "start_time": "2022-01-22T17:16:24.721Z"
   },
   {
    "duration": 6,
    "start_time": "2022-01-22T17:16:24.731Z"
   },
   {
    "duration": 14,
    "start_time": "2022-01-22T17:16:24.738Z"
   },
   {
    "duration": 2212,
    "start_time": "2022-01-22T17:16:24.754Z"
   },
   {
    "duration": 5,
    "start_time": "2022-01-22T17:16:26.968Z"
   },
   {
    "duration": 6,
    "start_time": "2022-01-22T17:16:26.974Z"
   },
   {
    "duration": 32,
    "start_time": "2022-01-22T17:16:26.982Z"
   },
   {
    "duration": 29,
    "start_time": "2022-01-22T17:16:27.016Z"
   },
   {
    "duration": 6,
    "start_time": "2022-01-22T17:16:27.046Z"
   },
   {
    "duration": 7,
    "start_time": "2022-01-22T17:16:27.053Z"
   },
   {
    "duration": 9,
    "start_time": "2022-01-22T17:16:27.061Z"
   },
   {
    "duration": 9,
    "start_time": "2022-01-22T17:16:27.072Z"
   },
   {
    "duration": 136,
    "start_time": "2022-01-22T17:16:27.112Z"
   },
   {
    "duration": 2,
    "start_time": "2022-01-22T17:16:27.249Z"
   },
   {
    "duration": 552,
    "start_time": "2022-01-22T17:16:27.253Z"
   },
   {
    "duration": 6,
    "start_time": "2022-01-22T17:16:27.806Z"
   },
   {
    "duration": 12,
    "start_time": "2022-01-22T17:16:27.813Z"
   },
   {
    "duration": 7,
    "start_time": "2022-01-22T17:16:27.826Z"
   },
   {
    "duration": 7,
    "start_time": "2022-01-22T17:16:27.834Z"
   },
   {
    "duration": 4928,
    "start_time": "2022-01-22T17:18:01.073Z"
   },
   {
    "duration": 244,
    "start_time": "2022-01-22T17:18:20.999Z"
   },
   {
    "duration": 243,
    "start_time": "2022-01-22T17:19:37.733Z"
   },
   {
    "duration": 315,
    "start_time": "2022-01-22T17:19:40.416Z"
   },
   {
    "duration": 540,
    "start_time": "2022-01-22T17:21:49.837Z"
   },
   {
    "duration": 20,
    "start_time": "2022-01-22T17:23:47.741Z"
   },
   {
    "duration": 4960,
    "start_time": "2022-01-22T17:24:45.589Z"
   },
   {
    "duration": 506,
    "start_time": "2022-01-22T17:25:04.610Z"
   },
   {
    "duration": 363,
    "start_time": "2022-01-22T17:27:34.996Z"
   },
   {
    "duration": 1367,
    "start_time": "2022-01-22T17:27:45.274Z"
   },
   {
    "duration": 32,
    "start_time": "2022-01-22T17:27:46.642Z"
   },
   {
    "duration": 91,
    "start_time": "2022-01-22T17:27:46.675Z"
   },
   {
    "duration": 7,
    "start_time": "2022-01-22T17:27:46.768Z"
   },
   {
    "duration": 36,
    "start_time": "2022-01-22T17:27:46.777Z"
   },
   {
    "duration": 564,
    "start_time": "2022-01-22T17:27:46.815Z"
   },
   {
    "duration": 45,
    "start_time": "2022-01-22T17:27:47.380Z"
   },
   {
    "duration": 175,
    "start_time": "2022-01-22T17:27:47.427Z"
   },
   {
    "duration": 48,
    "start_time": "2022-01-22T17:27:47.604Z"
   },
   {
    "duration": 35,
    "start_time": "2022-01-22T17:27:47.654Z"
   },
   {
    "duration": 23,
    "start_time": "2022-01-22T17:27:47.690Z"
   },
   {
    "duration": 6,
    "start_time": "2022-01-22T17:27:47.714Z"
   },
   {
    "duration": 13,
    "start_time": "2022-01-22T17:27:47.722Z"
   },
   {
    "duration": 2178,
    "start_time": "2022-01-22T17:27:47.737Z"
   },
   {
    "duration": 6,
    "start_time": "2022-01-22T17:27:49.916Z"
   },
   {
    "duration": 15,
    "start_time": "2022-01-22T17:27:49.923Z"
   },
   {
    "duration": 25,
    "start_time": "2022-01-22T17:27:49.940Z"
   },
   {
    "duration": 55,
    "start_time": "2022-01-22T17:27:49.967Z"
   },
   {
    "duration": 6,
    "start_time": "2022-01-22T17:27:50.023Z"
   },
   {
    "duration": 12,
    "start_time": "2022-01-22T17:27:50.031Z"
   },
   {
    "duration": 13,
    "start_time": "2022-01-22T17:27:50.045Z"
   },
   {
    "duration": 11,
    "start_time": "2022-01-22T17:27:50.060Z"
   },
   {
    "duration": 164,
    "start_time": "2022-01-22T17:27:50.074Z"
   },
   {
    "duration": 2,
    "start_time": "2022-01-22T17:27:50.241Z"
   },
   {
    "duration": 559,
    "start_time": "2022-01-22T17:27:50.245Z"
   },
   {
    "duration": 26,
    "start_time": "2022-01-22T17:27:50.806Z"
   },
   {
    "duration": 579,
    "start_time": "2022-01-22T17:27:50.834Z"
   },
   {
    "duration": 400,
    "start_time": "2022-01-22T17:27:51.415Z"
   },
   {
    "duration": -5258,
    "start_time": "2022-01-22T17:27:57.075Z"
   },
   {
    "duration": -5264,
    "start_time": "2022-01-22T17:27:57.081Z"
   },
   {
    "duration": -5267,
    "start_time": "2022-01-22T17:27:57.085Z"
   },
   {
    "duration": 535,
    "start_time": "2022-01-22T17:31:11.607Z"
   },
   {
    "duration": 444,
    "start_time": "2022-01-22T17:31:26.454Z"
   },
   {
    "duration": 549,
    "start_time": "2022-01-22T17:31:55.308Z"
   },
   {
    "duration": 571,
    "start_time": "2022-01-22T17:32:52.489Z"
   },
   {
    "duration": 562,
    "start_time": "2022-01-22T17:33:41.233Z"
   },
   {
    "duration": 1465,
    "start_time": "2022-01-22T17:33:47.212Z"
   },
   {
    "duration": 33,
    "start_time": "2022-01-22T17:33:48.678Z"
   },
   {
    "duration": 91,
    "start_time": "2022-01-22T17:33:48.714Z"
   },
   {
    "duration": 8,
    "start_time": "2022-01-22T17:33:48.812Z"
   },
   {
    "duration": 18,
    "start_time": "2022-01-22T17:33:48.822Z"
   },
   {
    "duration": 613,
    "start_time": "2022-01-22T17:33:48.842Z"
   },
   {
    "duration": 56,
    "start_time": "2022-01-22T17:33:49.457Z"
   },
   {
    "duration": 172,
    "start_time": "2022-01-22T17:33:49.515Z"
   },
   {
    "duration": 55,
    "start_time": "2022-01-22T17:33:49.690Z"
   },
   {
    "duration": 34,
    "start_time": "2022-01-22T17:33:49.746Z"
   },
   {
    "duration": 8,
    "start_time": "2022-01-22T17:33:49.782Z"
   },
   {
    "duration": 6,
    "start_time": "2022-01-22T17:33:49.791Z"
   },
   {
    "duration": 15,
    "start_time": "2022-01-22T17:33:49.812Z"
   },
   {
    "duration": 2242,
    "start_time": "2022-01-22T17:33:49.829Z"
   },
   {
    "duration": 6,
    "start_time": "2022-01-22T17:33:52.073Z"
   },
   {
    "duration": 6,
    "start_time": "2022-01-22T17:33:52.081Z"
   },
   {
    "duration": 36,
    "start_time": "2022-01-22T17:33:52.089Z"
   },
   {
    "duration": 30,
    "start_time": "2022-01-22T17:33:52.127Z"
   },
   {
    "duration": 6,
    "start_time": "2022-01-22T17:33:52.159Z"
   },
   {
    "duration": 7,
    "start_time": "2022-01-22T17:33:52.167Z"
   },
   {
    "duration": 41,
    "start_time": "2022-01-22T17:33:52.176Z"
   },
   {
    "duration": 9,
    "start_time": "2022-01-22T17:33:52.219Z"
   },
   {
    "duration": 144,
    "start_time": "2022-01-22T17:33:52.231Z"
   },
   {
    "duration": 2,
    "start_time": "2022-01-22T17:33:52.377Z"
   },
   {
    "duration": 538,
    "start_time": "2022-01-22T17:33:52.381Z"
   },
   {
    "duration": 23,
    "start_time": "2022-01-22T17:33:52.920Z"
   },
   {
    "duration": 592,
    "start_time": "2022-01-22T17:33:52.944Z"
   },
   {
    "duration": 431,
    "start_time": "2022-01-22T17:33:53.539Z"
   },
   {
    "duration": -343,
    "start_time": "2022-01-22T17:33:54.315Z"
   },
   {
    "duration": -347,
    "start_time": "2022-01-22T17:33:54.320Z"
   },
   {
    "duration": -349,
    "start_time": "2022-01-22T17:33:54.324Z"
   },
   {
    "duration": 552,
    "start_time": "2022-01-22T17:34:27.468Z"
   },
   {
    "duration": 529,
    "start_time": "2022-01-22T17:34:33.394Z"
   },
   {
    "duration": 540,
    "start_time": "2022-01-22T17:34:37.991Z"
   },
   {
    "duration": 540,
    "start_time": "2022-01-22T17:34:42.766Z"
   },
   {
    "duration": 528,
    "start_time": "2022-01-22T17:34:50.449Z"
   },
   {
    "duration": 677,
    "start_time": "2022-01-22T17:35:03.764Z"
   },
   {
    "duration": 560,
    "start_time": "2022-01-22T17:35:22.560Z"
   },
   {
    "duration": 526,
    "start_time": "2022-01-22T17:35:28.003Z"
   },
   {
    "duration": 542,
    "start_time": "2022-01-22T17:35:32.685Z"
   },
   {
    "duration": 553,
    "start_time": "2022-01-22T17:35:43.561Z"
   },
   {
    "duration": 622,
    "start_time": "2022-01-22T17:35:54.500Z"
   },
   {
    "duration": 624,
    "start_time": "2022-01-22T17:36:06.642Z"
   },
   {
    "duration": 640,
    "start_time": "2022-01-22T17:36:21.507Z"
   },
   {
    "duration": 201,
    "start_time": "2022-01-22T17:42:46.562Z"
   },
   {
    "duration": 8,
    "start_time": "2022-01-22T17:47:20.971Z"
   },
   {
    "duration": 265,
    "start_time": "2022-01-22T17:47:23.159Z"
   },
   {
    "duration": 384,
    "start_time": "2022-01-22T17:47:25.822Z"
   },
   {
    "duration": 26,
    "start_time": "2022-01-22T17:51:21.294Z"
   },
   {
    "duration": 24,
    "start_time": "2022-01-22T17:51:32.221Z"
   },
   {
    "duration": 6,
    "start_time": "2022-01-22T17:52:08.428Z"
   },
   {
    "duration": 188,
    "start_time": "2022-01-22T17:52:46.908Z"
   },
   {
    "duration": 14,
    "start_time": "2022-01-22T17:53:03.127Z"
   },
   {
    "duration": 24,
    "start_time": "2022-01-22T17:53:47.927Z"
   },
   {
    "duration": 3,
    "start_time": "2022-01-22T17:57:08.952Z"
   },
   {
    "duration": 2,
    "start_time": "2022-01-22T17:57:23.696Z"
   },
   {
    "duration": 19098,
    "start_time": "2022-01-23T18:44:54.075Z"
   },
   {
    "duration": 47,
    "start_time": "2022-01-23T18:45:13.175Z"
   },
   {
    "duration": 145,
    "start_time": "2022-01-23T18:45:13.225Z"
   },
   {
    "duration": 11,
    "start_time": "2022-01-23T18:45:13.373Z"
   },
   {
    "duration": 21,
    "start_time": "2022-01-23T18:45:13.386Z"
   },
   {
    "duration": 922,
    "start_time": "2022-01-23T18:45:13.409Z"
   },
   {
    "duration": 48,
    "start_time": "2022-01-23T18:45:14.333Z"
   },
   {
    "duration": 259,
    "start_time": "2022-01-23T18:45:14.385Z"
   },
   {
    "duration": 93,
    "start_time": "2022-01-23T18:45:14.647Z"
   },
   {
    "duration": 55,
    "start_time": "2022-01-23T18:45:14.743Z"
   },
   {
    "duration": 13,
    "start_time": "2022-01-23T18:45:14.801Z"
   },
   {
    "duration": 8,
    "start_time": "2022-01-23T18:45:14.816Z"
   },
   {
    "duration": 19,
    "start_time": "2022-01-23T18:45:14.827Z"
   },
   {
    "duration": 3487,
    "start_time": "2022-01-23T18:45:14.848Z"
   },
   {
    "duration": 7,
    "start_time": "2022-01-23T18:45:18.338Z"
   },
   {
    "duration": 23,
    "start_time": "2022-01-23T18:45:18.347Z"
   },
   {
    "duration": 23,
    "start_time": "2022-01-23T18:45:18.372Z"
   },
   {
    "duration": 44,
    "start_time": "2022-01-23T18:45:18.397Z"
   },
   {
    "duration": 8,
    "start_time": "2022-01-23T18:45:18.469Z"
   },
   {
    "duration": 9,
    "start_time": "2022-01-23T18:45:18.479Z"
   },
   {
    "duration": 9,
    "start_time": "2022-01-23T18:45:18.491Z"
   },
   {
    "duration": 18,
    "start_time": "2022-01-23T18:45:18.502Z"
   },
   {
    "duration": 229,
    "start_time": "2022-01-23T18:45:18.573Z"
   },
   {
    "duration": 3,
    "start_time": "2022-01-23T18:45:18.805Z"
   },
   {
    "duration": 1030,
    "start_time": "2022-01-23T18:45:18.811Z"
   },
   {
    "duration": 35,
    "start_time": "2022-01-23T18:45:19.843Z"
   },
   {
    "duration": 850,
    "start_time": "2022-01-23T18:45:19.881Z"
   },
   {
    "duration": 35,
    "start_time": "2022-01-23T18:45:20.734Z"
   },
   {
    "duration": 631,
    "start_time": "2022-01-23T18:45:20.772Z"
   },
   {
    "duration": 396,
    "start_time": "2022-01-23T18:45:21.405Z"
   },
   {
    "duration": 30,
    "start_time": "2022-01-23T18:45:21.803Z"
   },
   {
    "duration": 9,
    "start_time": "2022-01-23T18:45:21.835Z"
   },
   {
    "duration": 40,
    "start_time": "2022-01-23T18:45:21.847Z"
   },
   {
    "duration": 9,
    "start_time": "2022-01-23T19:16:23.810Z"
   },
   {
    "duration": 21,
    "start_time": "2022-01-23T19:16:32.280Z"
   },
   {
    "duration": 19,
    "start_time": "2022-01-23T19:24:39.476Z"
   },
   {
    "duration": 9,
    "start_time": "2022-01-23T19:24:47.321Z"
   },
   {
    "duration": 9,
    "start_time": "2022-01-23T19:24:52.562Z"
   },
   {
    "duration": 18,
    "start_time": "2022-01-23T19:24:53.521Z"
   },
   {
    "duration": 10,
    "start_time": "2022-01-23T19:26:22.908Z"
   },
   {
    "duration": 18,
    "start_time": "2022-01-23T19:26:34.425Z"
   },
   {
    "duration": 22,
    "start_time": "2022-01-23T19:26:46.922Z"
   },
   {
    "duration": 13,
    "start_time": "2022-01-23T19:26:54.658Z"
   },
   {
    "duration": 23051,
    "start_time": "2022-01-23T19:46:03.753Z"
   },
   {
    "duration": 46,
    "start_time": "2022-01-23T19:46:26.806Z"
   },
   {
    "duration": 128,
    "start_time": "2022-01-23T19:46:26.855Z"
   },
   {
    "duration": 11,
    "start_time": "2022-01-23T19:46:26.985Z"
   },
   {
    "duration": 21,
    "start_time": "2022-01-23T19:46:26.998Z"
   },
   {
    "duration": 829,
    "start_time": "2022-01-23T19:46:27.022Z"
   },
   {
    "duration": 45,
    "start_time": "2022-01-23T19:46:27.853Z"
   },
   {
    "duration": 267,
    "start_time": "2022-01-23T19:46:27.902Z"
   },
   {
    "duration": 80,
    "start_time": "2022-01-23T19:46:28.172Z"
   },
   {
    "duration": 51,
    "start_time": "2022-01-23T19:46:28.270Z"
   },
   {
    "duration": 16,
    "start_time": "2022-01-23T19:46:28.325Z"
   },
   {
    "duration": 10,
    "start_time": "2022-01-23T19:46:28.368Z"
   },
   {
    "duration": 21,
    "start_time": "2022-01-23T19:46:28.380Z"
   },
   {
    "duration": 3137,
    "start_time": "2022-01-23T19:46:28.403Z"
   },
   {
    "duration": 9,
    "start_time": "2022-01-23T19:46:31.543Z"
   },
   {
    "duration": 18,
    "start_time": "2022-01-23T19:46:31.554Z"
   },
   {
    "duration": 26,
    "start_time": "2022-01-23T19:46:31.575Z"
   },
   {
    "duration": 76,
    "start_time": "2022-01-23T19:46:31.603Z"
   },
   {
    "duration": 7,
    "start_time": "2022-01-23T19:46:31.682Z"
   },
   {
    "duration": 17,
    "start_time": "2022-01-23T19:46:31.691Z"
   },
   {
    "duration": 14,
    "start_time": "2022-01-23T19:46:31.711Z"
   },
   {
    "duration": 53,
    "start_time": "2022-01-23T19:46:31.728Z"
   },
   {
    "duration": 324,
    "start_time": "2022-01-23T19:46:31.788Z"
   },
   {
    "duration": 3,
    "start_time": "2022-01-23T19:46:32.116Z"
   },
   {
    "duration": 1063,
    "start_time": "2022-01-23T19:46:32.122Z"
   },
   {
    "duration": 24,
    "start_time": "2022-01-23T19:46:33.189Z"
   },
   {
    "duration": 889,
    "start_time": "2022-01-23T19:46:33.216Z"
   },
   {
    "duration": 12,
    "start_time": "2022-01-23T19:46:34.107Z"
   },
   {
    "duration": 750,
    "start_time": "2022-01-23T19:46:34.122Z"
   },
   {
    "duration": 410,
    "start_time": "2022-01-23T19:46:34.874Z"
   },
   {
    "duration": 29,
    "start_time": "2022-01-23T19:46:35.287Z"
   },
   {
    "duration": 9,
    "start_time": "2022-01-23T19:46:35.319Z"
   },
   {
    "duration": 49,
    "start_time": "2022-01-23T19:46:35.330Z"
   },
   {
    "duration": 1693,
    "start_time": "2022-01-24T09:09:24.960Z"
   },
   {
    "duration": 46,
    "start_time": "2022-01-24T09:09:26.655Z"
   },
   {
    "duration": 109,
    "start_time": "2022-01-24T09:09:26.704Z"
   },
   {
    "duration": 8,
    "start_time": "2022-01-24T09:09:26.815Z"
   },
   {
    "duration": 49,
    "start_time": "2022-01-24T09:09:26.825Z"
   },
   {
    "duration": 620,
    "start_time": "2022-01-24T09:09:26.876Z"
   },
   {
    "duration": 40,
    "start_time": "2022-01-24T09:09:27.498Z"
   },
   {
    "duration": 211,
    "start_time": "2022-01-24T09:09:27.541Z"
   },
   {
    "duration": 54,
    "start_time": "2022-01-24T09:09:27.755Z"
   },
   {
    "duration": 39,
    "start_time": "2022-01-24T09:09:27.811Z"
   },
   {
    "duration": 10,
    "start_time": "2022-01-24T09:09:27.860Z"
   },
   {
    "duration": 38,
    "start_time": "2022-01-24T09:09:27.872Z"
   },
   {
    "duration": 31,
    "start_time": "2022-01-24T09:09:27.912Z"
   },
   {
    "duration": 2402,
    "start_time": "2022-01-24T09:09:27.946Z"
   },
   {
    "duration": 11,
    "start_time": "2022-01-24T09:09:30.350Z"
   },
   {
    "duration": 17,
    "start_time": "2022-01-24T09:09:30.362Z"
   },
   {
    "duration": 28,
    "start_time": "2022-01-24T09:09:30.381Z"
   },
   {
    "duration": 44,
    "start_time": "2022-01-24T09:09:30.411Z"
   },
   {
    "duration": 7,
    "start_time": "2022-01-24T09:09:30.456Z"
   },
   {
    "duration": 36,
    "start_time": "2022-01-24T09:09:30.465Z"
   },
   {
    "duration": 28,
    "start_time": "2022-01-24T09:09:30.503Z"
   },
   {
    "duration": 28,
    "start_time": "2022-01-24T09:09:30.533Z"
   },
   {
    "duration": 189,
    "start_time": "2022-01-24T09:09:30.564Z"
   },
   {
    "duration": 6,
    "start_time": "2022-01-24T09:09:30.755Z"
   },
   {
    "duration": 666,
    "start_time": "2022-01-24T09:09:30.763Z"
   },
   {
    "duration": 42,
    "start_time": "2022-01-24T09:09:31.431Z"
   },
   {
    "duration": 646,
    "start_time": "2022-01-24T09:09:31.475Z"
   },
   {
    "duration": 8,
    "start_time": "2022-01-24T09:09:32.123Z"
   },
   {
    "duration": 359,
    "start_time": "2022-01-24T09:09:32.133Z"
   },
   {
    "duration": 244,
    "start_time": "2022-01-24T09:09:32.494Z"
   },
   {
    "duration": 36,
    "start_time": "2022-01-24T09:09:32.740Z"
   },
   {
    "duration": 6,
    "start_time": "2022-01-24T09:09:32.778Z"
   },
   {
    "duration": 33,
    "start_time": "2022-01-24T09:09:32.786Z"
   },
   {
    "duration": 29,
    "start_time": "2022-01-24T09:10:06.518Z"
   },
   {
    "duration": 31,
    "start_time": "2022-01-24T09:10:50.070Z"
   },
   {
    "duration": 28,
    "start_time": "2022-01-24T09:11:27.932Z"
   },
   {
    "duration": 31,
    "start_time": "2022-01-24T09:12:13.938Z"
   },
   {
    "duration": 118,
    "start_time": "2022-01-24T09:18:51.162Z"
   },
   {
    "duration": 24,
    "start_time": "2022-01-24T09:18:55.928Z"
   },
   {
    "duration": 24,
    "start_time": "2022-01-24T09:19:36.368Z"
   },
   {
    "duration": 24,
    "start_time": "2022-01-24T09:21:07.908Z"
   },
   {
    "duration": 24,
    "start_time": "2022-01-24T09:21:16.312Z"
   },
   {
    "duration": 13,
    "start_time": "2022-01-24T09:22:21.086Z"
   },
   {
    "duration": 83,
    "start_time": "2022-01-24T09:22:47.674Z"
   },
   {
    "duration": 13,
    "start_time": "2022-01-24T09:23:32.468Z"
   },
   {
    "duration": 8,
    "start_time": "2022-01-24T09:36:28.951Z"
   },
   {
    "duration": 587,
    "start_time": "2022-01-24T09:37:18.446Z"
   },
   {
    "duration": 621,
    "start_time": "2022-01-24T09:38:39.551Z"
   },
   {
    "duration": 602,
    "start_time": "2022-01-24T09:38:49.576Z"
   },
   {
    "duration": 610,
    "start_time": "2022-01-24T09:38:53.568Z"
   },
   {
    "duration": 658,
    "start_time": "2022-01-24T09:39:01.660Z"
   },
   {
    "duration": 743,
    "start_time": "2022-01-24T09:39:07.609Z"
   },
   {
    "duration": 588,
    "start_time": "2022-01-24T09:39:13.289Z"
   },
   {
    "duration": 22,
    "start_time": "2022-01-24T09:40:56.921Z"
   },
   {
    "duration": 16,
    "start_time": "2022-01-24T09:40:59.285Z"
   },
   {
    "duration": 21,
    "start_time": "2022-01-24T09:41:15.722Z"
   },
   {
    "duration": 17,
    "start_time": "2022-01-24T09:41:17.607Z"
   },
   {
    "duration": 22,
    "start_time": "2022-01-24T09:42:05.590Z"
   },
   {
    "duration": 15,
    "start_time": "2022-01-24T09:42:13.244Z"
   },
   {
    "duration": 129,
    "start_time": "2022-01-24T09:44:46.332Z"
   },
   {
    "duration": 150,
    "start_time": "2022-01-24T09:44:49.064Z"
   },
   {
    "duration": 1562,
    "start_time": "2022-01-24T09:45:27.978Z"
   },
   {
    "duration": 38,
    "start_time": "2022-01-24T09:45:29.542Z"
   },
   {
    "duration": 97,
    "start_time": "2022-01-24T09:45:29.582Z"
   },
   {
    "duration": 8,
    "start_time": "2022-01-24T09:45:29.681Z"
   },
   {
    "duration": 19,
    "start_time": "2022-01-24T09:45:29.691Z"
   },
   {
    "duration": 651,
    "start_time": "2022-01-24T09:45:29.711Z"
   },
   {
    "duration": 37,
    "start_time": "2022-01-24T09:45:30.364Z"
   },
   {
    "duration": 183,
    "start_time": "2022-01-24T09:45:30.404Z"
   },
   {
    "duration": 49,
    "start_time": "2022-01-24T09:45:30.589Z"
   },
   {
    "duration": 42,
    "start_time": "2022-01-24T09:45:30.640Z"
   },
   {
    "duration": 9,
    "start_time": "2022-01-24T09:45:30.683Z"
   },
   {
    "duration": 29,
    "start_time": "2022-01-24T09:45:30.694Z"
   },
   {
    "duration": 82,
    "start_time": "2022-01-24T09:45:30.725Z"
   },
   {
    "duration": 2241,
    "start_time": "2022-01-24T09:45:30.809Z"
   },
   {
    "duration": 11,
    "start_time": "2022-01-24T09:45:33.052Z"
   },
   {
    "duration": 25,
    "start_time": "2022-01-24T09:45:33.065Z"
   },
   {
    "duration": 44,
    "start_time": "2022-01-24T09:45:33.092Z"
   },
   {
    "duration": 38,
    "start_time": "2022-01-24T09:45:33.138Z"
   },
   {
    "duration": 16,
    "start_time": "2022-01-24T09:45:33.178Z"
   },
   {
    "duration": 40,
    "start_time": "2022-01-24T09:45:33.196Z"
   },
   {
    "duration": 33,
    "start_time": "2022-01-24T09:45:33.238Z"
   },
   {
    "duration": 40,
    "start_time": "2022-01-24T09:45:33.273Z"
   },
   {
    "duration": 24,
    "start_time": "2022-01-24T09:45:33.318Z"
   },
   {
    "duration": 35,
    "start_time": "2022-01-24T09:45:33.345Z"
   },
   {
    "duration": 181,
    "start_time": "2022-01-24T09:45:33.382Z"
   },
   {
    "duration": 2,
    "start_time": "2022-01-24T09:45:33.565Z"
   },
   {
    "duration": 39,
    "start_time": "2022-01-24T09:45:33.568Z"
   },
   {
    "duration": 623,
    "start_time": "2022-01-24T09:45:33.609Z"
   },
   {
    "duration": 603,
    "start_time": "2022-01-24T09:45:34.234Z"
   },
   {
    "duration": 33,
    "start_time": "2022-01-24T09:45:34.839Z"
   },
   {
    "duration": 13,
    "start_time": "2022-01-24T09:45:34.873Z"
   },
   {
    "duration": 623,
    "start_time": "2022-01-24T09:45:34.888Z"
   },
   {
    "duration": 205,
    "start_time": "2022-01-24T09:45:35.512Z"
   },
   {
    "duration": 272,
    "start_time": "2022-01-24T09:45:35.719Z"
   },
   {
    "duration": 251,
    "start_time": "2022-01-24T09:45:35.993Z"
   },
   {
    "duration": 36,
    "start_time": "2022-01-24T09:45:36.246Z"
   },
   {
    "duration": 14,
    "start_time": "2022-01-24T09:45:36.284Z"
   },
   {
    "duration": 70,
    "start_time": "2022-01-24T09:45:36.300Z"
   },
   {
    "duration": 408,
    "start_time": "2022-01-24T09:51:04.690Z"
   },
   {
    "duration": 534,
    "start_time": "2022-01-24T09:51:09.636Z"
   },
   {
    "duration": 154,
    "start_time": "2022-01-24T09:51:24.522Z"
   },
   {
    "duration": 315,
    "start_time": "2022-01-24T10:06:55.711Z"
   },
   {
    "duration": 134,
    "start_time": "2022-01-24T10:07:22.341Z"
   },
   {
    "duration": 12,
    "start_time": "2022-01-24T10:08:35.801Z"
   },
   {
    "duration": 248,
    "start_time": "2022-01-24T10:09:56.152Z"
   },
   {
    "duration": 387,
    "start_time": "2022-01-24T10:10:26.260Z"
   },
   {
    "duration": 117,
    "start_time": "2022-01-24T10:10:51.211Z"
   },
   {
    "duration": 1682,
    "start_time": "2022-01-24T10:15:35.636Z"
   },
   {
    "duration": 35,
    "start_time": "2022-01-24T10:15:37.321Z"
   },
   {
    "duration": 127,
    "start_time": "2022-01-24T10:15:37.358Z"
   },
   {
    "duration": 9,
    "start_time": "2022-01-24T10:15:37.487Z"
   },
   {
    "duration": 54,
    "start_time": "2022-01-24T10:15:37.497Z"
   },
   {
    "duration": 669,
    "start_time": "2022-01-24T10:15:37.553Z"
   },
   {
    "duration": 52,
    "start_time": "2022-01-24T10:15:38.224Z"
   },
   {
    "duration": 197,
    "start_time": "2022-01-24T10:15:38.278Z"
   },
   {
    "duration": 52,
    "start_time": "2022-01-24T10:15:38.478Z"
   },
   {
    "duration": 52,
    "start_time": "2022-01-24T10:15:38.532Z"
   },
   {
    "duration": 10,
    "start_time": "2022-01-24T10:15:38.585Z"
   },
   {
    "duration": 43,
    "start_time": "2022-01-24T10:15:38.596Z"
   },
   {
    "duration": 47,
    "start_time": "2022-01-24T10:15:38.641Z"
   },
   {
    "duration": 2299,
    "start_time": "2022-01-24T10:15:38.690Z"
   },
   {
    "duration": 7,
    "start_time": "2022-01-24T10:15:40.991Z"
   },
   {
    "duration": 44,
    "start_time": "2022-01-24T10:15:41.000Z"
   },
   {
    "duration": 54,
    "start_time": "2022-01-24T10:15:41.046Z"
   },
   {
    "duration": 59,
    "start_time": "2022-01-24T10:15:41.102Z"
   },
   {
    "duration": 29,
    "start_time": "2022-01-24T10:15:41.163Z"
   },
   {
    "duration": 41,
    "start_time": "2022-01-24T10:15:41.194Z"
   },
   {
    "duration": 32,
    "start_time": "2022-01-24T10:15:41.237Z"
   },
   {
    "duration": 39,
    "start_time": "2022-01-24T10:15:41.271Z"
   },
   {
    "duration": 26,
    "start_time": "2022-01-24T10:15:41.314Z"
   },
   {
    "duration": 30,
    "start_time": "2022-01-24T10:15:41.342Z"
   },
   {
    "duration": 166,
    "start_time": "2022-01-24T10:15:41.373Z"
   },
   {
    "duration": 2,
    "start_time": "2022-01-24T10:15:41.541Z"
   },
   {
    "duration": 41,
    "start_time": "2022-01-24T10:15:41.545Z"
   },
   {
    "duration": 686,
    "start_time": "2022-01-24T10:15:41.588Z"
   },
   {
    "duration": 631,
    "start_time": "2022-01-24T10:15:42.276Z"
   },
   {
    "duration": 32,
    "start_time": "2022-01-24T10:15:42.909Z"
   },
   {
    "duration": 30,
    "start_time": "2022-01-24T10:15:42.943Z"
   },
   {
    "duration": 693,
    "start_time": "2022-01-24T10:15:42.975Z"
   },
   {
    "duration": 228,
    "start_time": "2022-01-24T10:15:43.669Z"
   },
   {
    "duration": 271,
    "start_time": "2022-01-24T10:15:43.899Z"
   },
   {
    "duration": 247,
    "start_time": "2022-01-24T10:15:44.172Z"
   },
   {
    "duration": 24,
    "start_time": "2022-01-24T10:15:44.421Z"
   },
   {
    "duration": 20,
    "start_time": "2022-01-24T10:15:44.448Z"
   },
   {
    "duration": 38,
    "start_time": "2022-01-24T10:15:44.470Z"
   },
   {
    "duration": 603,
    "start_time": "2022-01-24T14:32:22.958Z"
   },
   {
    "duration": 751,
    "start_time": "2022-01-24T14:32:28.455Z"
   },
   {
    "duration": 9,
    "start_time": "2022-01-24T15:07:51.910Z"
   },
   {
    "duration": 12,
    "start_time": "2022-01-24T15:08:10.545Z"
   },
   {
    "duration": 10,
    "start_time": "2022-01-24T15:09:48.848Z"
   },
   {
    "duration": 8,
    "start_time": "2022-01-24T15:09:57.504Z"
   },
   {
    "duration": 8,
    "start_time": "2022-01-24T15:09:59.031Z"
   },
   {
    "duration": 8,
    "start_time": "2022-01-24T15:10:01.269Z"
   },
   {
    "duration": 482,
    "start_time": "2022-01-24T15:12:59.064Z"
   },
   {
    "duration": 23,
    "start_time": "2022-01-24T15:13:18.113Z"
   },
   {
    "duration": 278,
    "start_time": "2022-01-24T15:13:33.107Z"
   },
   {
    "duration": 27,
    "start_time": "2022-01-24T15:13:38.796Z"
   },
   {
    "duration": 26,
    "start_time": "2022-01-24T15:16:26.715Z"
   },
   {
    "duration": 297,
    "start_time": "2022-01-24T15:16:41.556Z"
   },
   {
    "duration": 279,
    "start_time": "2022-01-24T15:16:51.540Z"
   },
   {
    "duration": 26,
    "start_time": "2022-01-24T15:17:00.452Z"
   },
   {
    "duration": 1551,
    "start_time": "2022-01-24T15:21:24.589Z"
   },
   {
    "duration": 37,
    "start_time": "2022-01-24T15:21:26.142Z"
   },
   {
    "duration": 104,
    "start_time": "2022-01-24T15:21:26.181Z"
   },
   {
    "duration": 12,
    "start_time": "2022-01-24T15:21:26.287Z"
   },
   {
    "duration": 19,
    "start_time": "2022-01-24T15:21:26.301Z"
   },
   {
    "duration": 651,
    "start_time": "2022-01-24T15:21:26.322Z"
   },
   {
    "duration": 41,
    "start_time": "2022-01-24T15:21:26.975Z"
   },
   {
    "duration": 182,
    "start_time": "2022-01-24T15:21:27.018Z"
   },
   {
    "duration": 61,
    "start_time": "2022-01-24T15:21:27.202Z"
   },
   {
    "duration": 37,
    "start_time": "2022-01-24T15:21:27.265Z"
   },
   {
    "duration": 8,
    "start_time": "2022-01-24T15:21:27.304Z"
   },
   {
    "duration": 6,
    "start_time": "2022-01-24T15:21:27.314Z"
   },
   {
    "duration": 18,
    "start_time": "2022-01-24T15:21:27.322Z"
   },
   {
    "duration": 2221,
    "start_time": "2022-01-24T15:21:27.361Z"
   },
   {
    "duration": 6,
    "start_time": "2022-01-24T15:21:29.584Z"
   },
   {
    "duration": 29,
    "start_time": "2022-01-24T15:21:29.592Z"
   },
   {
    "duration": 25,
    "start_time": "2022-01-24T15:21:29.623Z"
   },
   {
    "duration": 39,
    "start_time": "2022-01-24T15:21:29.650Z"
   },
   {
    "duration": 14,
    "start_time": "2022-01-24T15:21:29.691Z"
   },
   {
    "duration": 22,
    "start_time": "2022-01-24T15:21:29.707Z"
   },
   {
    "duration": 18,
    "start_time": "2022-01-24T15:21:29.730Z"
   },
   {
    "duration": 29,
    "start_time": "2022-01-24T15:21:29.750Z"
   },
   {
    "duration": 11,
    "start_time": "2022-01-24T15:21:29.782Z"
   },
   {
    "duration": 10,
    "start_time": "2022-01-24T15:21:29.795Z"
   },
   {
    "duration": 171,
    "start_time": "2022-01-24T15:21:29.806Z"
   },
   {
    "duration": 2,
    "start_time": "2022-01-24T15:21:29.979Z"
   },
   {
    "duration": 13,
    "start_time": "2022-01-24T15:21:29.983Z"
   },
   {
    "duration": 639,
    "start_time": "2022-01-24T15:21:29.998Z"
   },
   {
    "duration": 632,
    "start_time": "2022-01-24T15:21:30.639Z"
   },
   {
    "duration": 33,
    "start_time": "2022-01-24T15:21:31.273Z"
   },
   {
    "duration": 15,
    "start_time": "2022-01-24T15:21:31.308Z"
   },
   {
    "duration": 693,
    "start_time": "2022-01-24T15:21:31.324Z"
   },
   {
    "duration": 129,
    "start_time": "2022-01-24T15:21:32.020Z"
   },
   {
    "duration": 239,
    "start_time": "2022-01-24T15:21:32.151Z"
   },
   {
    "duration": 253,
    "start_time": "2022-01-24T15:21:32.392Z"
   },
   {
    "duration": 21,
    "start_time": "2022-01-24T15:21:32.646Z"
   },
   {
    "duration": 8,
    "start_time": "2022-01-24T15:21:32.668Z"
   },
   {
    "duration": 27,
    "start_time": "2022-01-24T15:21:32.678Z"
   },
   {
    "duration": 6,
    "start_time": "2022-01-24T15:21:32.706Z"
   },
   {
    "duration": 55,
    "start_time": "2022-01-24T15:21:32.714Z"
   },
   {
    "duration": 87,
    "start_time": "2022-01-24T15:22:05.580Z"
   },
   {
    "duration": 15,
    "start_time": "2022-01-24T15:22:20.580Z"
   },
   {
    "duration": 424,
    "start_time": "2022-01-24T15:24:28.588Z"
   },
   {
    "duration": 201,
    "start_time": "2022-01-24T15:24:37.843Z"
   },
   {
    "duration": 2003,
    "start_time": "2022-01-24T15:25:01.175Z"
   },
   {
    "duration": 43,
    "start_time": "2022-01-24T15:25:03.180Z"
   },
   {
    "duration": 142,
    "start_time": "2022-01-24T15:25:03.226Z"
   },
   {
    "duration": 11,
    "start_time": "2022-01-24T15:25:03.371Z"
   },
   {
    "duration": 56,
    "start_time": "2022-01-24T15:25:03.385Z"
   },
   {
    "duration": 710,
    "start_time": "2022-01-24T15:25:03.443Z"
   },
   {
    "duration": 46,
    "start_time": "2022-01-24T15:25:04.154Z"
   },
   {
    "duration": 215,
    "start_time": "2022-01-24T15:25:04.203Z"
   },
   {
    "duration": 86,
    "start_time": "2022-01-24T15:25:04.421Z"
   },
   {
    "duration": 44,
    "start_time": "2022-01-24T15:25:04.509Z"
   },
   {
    "duration": 13,
    "start_time": "2022-01-24T15:25:04.560Z"
   },
   {
    "duration": 17,
    "start_time": "2022-01-24T15:25:04.576Z"
   },
   {
    "duration": 41,
    "start_time": "2022-01-24T15:25:04.595Z"
   },
   {
    "duration": 2447,
    "start_time": "2022-01-24T15:25:04.638Z"
   },
   {
    "duration": 6,
    "start_time": "2022-01-24T15:25:07.087Z"
   },
   {
    "duration": 12,
    "start_time": "2022-01-24T15:25:07.095Z"
   },
   {
    "duration": 20,
    "start_time": "2022-01-24T15:25:07.109Z"
   },
   {
    "duration": 60,
    "start_time": "2022-01-24T15:25:07.131Z"
   },
   {
    "duration": 6,
    "start_time": "2022-01-24T15:25:07.193Z"
   },
   {
    "duration": 9,
    "start_time": "2022-01-24T15:25:07.201Z"
   },
   {
    "duration": 12,
    "start_time": "2022-01-24T15:25:07.212Z"
   },
   {
    "duration": 41,
    "start_time": "2022-01-24T15:25:07.226Z"
   },
   {
    "duration": 12,
    "start_time": "2022-01-24T15:25:07.271Z"
   },
   {
    "duration": 10,
    "start_time": "2022-01-24T15:25:07.285Z"
   },
   {
    "duration": 175,
    "start_time": "2022-01-24T15:25:07.296Z"
   },
   {
    "duration": 3,
    "start_time": "2022-01-24T15:25:07.473Z"
   },
   {
    "duration": 13,
    "start_time": "2022-01-24T15:25:07.477Z"
   },
   {
    "duration": 653,
    "start_time": "2022-01-24T15:25:07.493Z"
   },
   {
    "duration": 634,
    "start_time": "2022-01-24T15:25:08.148Z"
   },
   {
    "duration": 26,
    "start_time": "2022-01-24T15:25:08.784Z"
   },
   {
    "duration": 15,
    "start_time": "2022-01-24T15:25:08.812Z"
   },
   {
    "duration": 718,
    "start_time": "2022-01-24T15:25:08.829Z"
   },
   {
    "duration": 228,
    "start_time": "2022-01-24T15:25:09.562Z"
   },
   {
    "duration": 254,
    "start_time": "2022-01-24T15:25:09.791Z"
   },
   {
    "duration": 258,
    "start_time": "2022-01-24T15:25:10.047Z"
   },
   {
    "duration": 9,
    "start_time": "2022-01-24T15:25:10.306Z"
   },
   {
    "duration": 12,
    "start_time": "2022-01-24T15:25:10.317Z"
   },
   {
    "duration": 30,
    "start_time": "2022-01-24T15:25:10.331Z"
   },
   {
    "duration": 222,
    "start_time": "2022-01-24T15:25:10.363Z"
   },
   {
    "duration": 23,
    "start_time": "2022-01-24T15:25:10.587Z"
   },
   {
    "duration": 6,
    "start_time": "2022-01-24T15:25:10.612Z"
   },
   {
    "duration": 18,
    "start_time": "2022-01-24T15:25:10.620Z"
   },
   {
    "duration": 1623,
    "start_time": "2022-01-24T15:27:56.504Z"
   },
   {
    "duration": 35,
    "start_time": "2022-01-24T15:27:58.129Z"
   },
   {
    "duration": 105,
    "start_time": "2022-01-24T15:27:58.166Z"
   },
   {
    "duration": 8,
    "start_time": "2022-01-24T15:27:58.273Z"
   },
   {
    "duration": 36,
    "start_time": "2022-01-24T15:27:58.283Z"
   },
   {
    "duration": 627,
    "start_time": "2022-01-24T15:27:58.321Z"
   },
   {
    "duration": 39,
    "start_time": "2022-01-24T15:27:58.961Z"
   },
   {
    "duration": 181,
    "start_time": "2022-01-24T15:27:59.003Z"
   },
   {
    "duration": 52,
    "start_time": "2022-01-24T15:27:59.186Z"
   },
   {
    "duration": 44,
    "start_time": "2022-01-24T15:27:59.239Z"
   },
   {
    "duration": 9,
    "start_time": "2022-01-24T15:27:59.284Z"
   },
   {
    "duration": 7,
    "start_time": "2022-01-24T15:27:59.295Z"
   },
   {
    "duration": 17,
    "start_time": "2022-01-24T15:27:59.303Z"
   },
   {
    "duration": 2268,
    "start_time": "2022-01-24T15:27:59.322Z"
   },
   {
    "duration": 6,
    "start_time": "2022-01-24T15:28:01.592Z"
   },
   {
    "duration": 28,
    "start_time": "2022-01-24T15:28:01.600Z"
   },
   {
    "duration": 49,
    "start_time": "2022-01-24T15:28:01.631Z"
   },
   {
    "duration": 62,
    "start_time": "2022-01-24T15:28:01.682Z"
   },
   {
    "duration": 17,
    "start_time": "2022-01-24T15:28:01.746Z"
   },
   {
    "duration": 52,
    "start_time": "2022-01-24T15:28:01.765Z"
   },
   {
    "duration": 43,
    "start_time": "2022-01-24T15:28:01.820Z"
   },
   {
    "duration": 46,
    "start_time": "2022-01-24T15:28:01.865Z"
   },
   {
    "duration": 37,
    "start_time": "2022-01-24T15:28:01.916Z"
   },
   {
    "duration": 52,
    "start_time": "2022-01-24T15:28:01.956Z"
   },
   {
    "duration": 201,
    "start_time": "2022-01-24T15:28:02.010Z"
   },
   {
    "duration": 2,
    "start_time": "2022-01-24T15:28:02.212Z"
   },
   {
    "duration": 39,
    "start_time": "2022-01-24T15:28:02.216Z"
   },
   {
    "duration": 612,
    "start_time": "2022-01-24T15:28:02.257Z"
   },
   {
    "duration": 627,
    "start_time": "2022-01-24T15:28:02.872Z"
   },
   {
    "duration": 24,
    "start_time": "2022-01-24T15:28:03.500Z"
   },
   {
    "duration": 12,
    "start_time": "2022-01-24T15:28:03.526Z"
   },
   {
    "duration": 651,
    "start_time": "2022-01-24T15:28:03.540Z"
   },
   {
    "duration": 207,
    "start_time": "2022-01-24T15:28:04.194Z"
   },
   {
    "duration": 338,
    "start_time": "2022-01-24T15:28:04.403Z"
   },
   {
    "duration": 259,
    "start_time": "2022-01-24T15:28:04.743Z"
   },
   {
    "duration": 12,
    "start_time": "2022-01-24T15:28:05.004Z"
   },
   {
    "duration": 12,
    "start_time": "2022-01-24T15:28:05.018Z"
   },
   {
    "duration": 30,
    "start_time": "2022-01-24T15:28:05.032Z"
   },
   {
    "duration": 217,
    "start_time": "2022-01-24T15:28:05.064Z"
   },
   {
    "duration": 25,
    "start_time": "2022-01-24T15:28:05.283Z"
   },
   {
    "duration": 6,
    "start_time": "2022-01-24T15:28:05.310Z"
   },
   {
    "duration": 32,
    "start_time": "2022-01-24T15:28:05.318Z"
   },
   {
    "duration": 22,
    "start_time": "2022-01-24T15:28:23.300Z"
   },
   {
    "duration": 1632,
    "start_time": "2022-01-24T15:31:14.225Z"
   },
   {
    "duration": 38,
    "start_time": "2022-01-24T15:31:15.859Z"
   },
   {
    "duration": 110,
    "start_time": "2022-01-24T15:31:15.899Z"
   },
   {
    "duration": 9,
    "start_time": "2022-01-24T15:31:16.011Z"
   },
   {
    "duration": 42,
    "start_time": "2022-01-24T15:31:16.022Z"
   },
   {
    "duration": 661,
    "start_time": "2022-01-24T15:31:16.066Z"
   },
   {
    "duration": 49,
    "start_time": "2022-01-24T15:31:16.728Z"
   },
   {
    "duration": 203,
    "start_time": "2022-01-24T15:31:16.780Z"
   },
   {
    "duration": 52,
    "start_time": "2022-01-24T15:31:16.985Z"
   },
   {
    "duration": 43,
    "start_time": "2022-01-24T15:31:17.039Z"
   },
   {
    "duration": 8,
    "start_time": "2022-01-24T15:31:17.084Z"
   },
   {
    "duration": 8,
    "start_time": "2022-01-24T15:31:17.094Z"
   },
   {
    "duration": 22,
    "start_time": "2022-01-24T15:31:17.103Z"
   },
   {
    "duration": 2291,
    "start_time": "2022-01-24T15:31:17.127Z"
   },
   {
    "duration": 9,
    "start_time": "2022-01-24T15:31:19.420Z"
   },
   {
    "duration": 40,
    "start_time": "2022-01-24T15:31:19.431Z"
   },
   {
    "duration": 39,
    "start_time": "2022-01-24T15:31:19.474Z"
   },
   {
    "duration": 35,
    "start_time": "2022-01-24T15:31:19.515Z"
   },
   {
    "duration": 8,
    "start_time": "2022-01-24T15:31:19.553Z"
   },
   {
    "duration": 21,
    "start_time": "2022-01-24T15:31:19.563Z"
   },
   {
    "duration": 19,
    "start_time": "2022-01-24T15:31:19.587Z"
   },
   {
    "duration": 25,
    "start_time": "2022-01-24T15:31:19.608Z"
   },
   {
    "duration": 13,
    "start_time": "2022-01-24T15:31:19.637Z"
   },
   {
    "duration": 27,
    "start_time": "2022-01-24T15:31:19.652Z"
   },
   {
    "duration": 235,
    "start_time": "2022-01-24T15:31:19.681Z"
   },
   {
    "duration": 76,
    "start_time": "2022-01-24T15:31:19.919Z"
   },
   {
    "duration": 3,
    "start_time": "2022-01-24T15:31:19.997Z"
   },
   {
    "duration": 46,
    "start_time": "2022-01-24T15:31:20.002Z"
   },
   {
    "duration": 647,
    "start_time": "2022-01-24T15:31:20.050Z"
   },
   {
    "duration": 704,
    "start_time": "2022-01-24T15:31:20.698Z"
   },
   {
    "duration": 24,
    "start_time": "2022-01-24T15:31:21.404Z"
   },
   {
    "duration": 13,
    "start_time": "2022-01-24T15:31:21.430Z"
   },
   {
    "duration": 565,
    "start_time": "2022-01-24T15:31:21.461Z"
   },
   {
    "duration": 237,
    "start_time": "2022-01-24T15:31:22.028Z"
   },
   {
    "duration": 321,
    "start_time": "2022-01-24T15:31:22.268Z"
   },
   {
    "duration": 258,
    "start_time": "2022-01-24T15:31:22.590Z"
   },
   {
    "duration": 15,
    "start_time": "2022-01-24T15:31:22.849Z"
   },
   {
    "duration": 11,
    "start_time": "2022-01-24T15:31:22.866Z"
   },
   {
    "duration": 26,
    "start_time": "2022-01-24T15:31:22.879Z"
   },
   {
    "duration": 6,
    "start_time": "2022-01-24T15:31:22.908Z"
   },
   {
    "duration": 20,
    "start_time": "2022-01-24T15:31:22.915Z"
   },
   {
    "duration": 776,
    "start_time": "2022-01-24T15:32:11.510Z"
   },
   {
    "duration": 671,
    "start_time": "2022-01-24T15:32:18.943Z"
   },
   {
    "duration": 608,
    "start_time": "2022-01-24T15:32:31.484Z"
   },
   {
    "duration": 402,
    "start_time": "2022-01-24T17:29:21.890Z"
   },
   {
    "duration": 20273,
    "start_time": "2022-01-24T17:29:42.069Z"
   },
   {
    "duration": 47,
    "start_time": "2022-01-24T17:30:02.344Z"
   },
   {
    "duration": 141,
    "start_time": "2022-01-24T17:30:02.394Z"
   },
   {
    "duration": 33,
    "start_time": "2022-01-24T17:30:02.538Z"
   },
   {
    "duration": 25,
    "start_time": "2022-01-24T17:30:02.574Z"
   },
   {
    "duration": 894,
    "start_time": "2022-01-24T17:30:02.602Z"
   },
   {
    "duration": 72,
    "start_time": "2022-01-24T17:30:03.500Z"
   },
   {
    "duration": 262,
    "start_time": "2022-01-24T17:30:03.577Z"
   },
   {
    "duration": 76,
    "start_time": "2022-01-24T17:30:03.841Z"
   },
   {
    "duration": 57,
    "start_time": "2022-01-24T17:30:03.919Z"
   },
   {
    "duration": 16,
    "start_time": "2022-01-24T17:30:03.979Z"
   },
   {
    "duration": 10,
    "start_time": "2022-01-24T17:30:03.998Z"
   },
   {
    "duration": 60,
    "start_time": "2022-01-24T17:30:04.011Z"
   },
   {
    "duration": 3714,
    "start_time": "2022-01-24T17:30:04.074Z"
   },
   {
    "duration": 9,
    "start_time": "2022-01-24T17:30:07.790Z"
   },
   {
    "duration": 14,
    "start_time": "2022-01-24T17:30:07.802Z"
   },
   {
    "duration": 50,
    "start_time": "2022-01-24T17:30:07.819Z"
   },
   {
    "duration": 46,
    "start_time": "2022-01-24T17:30:07.872Z"
   },
   {
    "duration": 10,
    "start_time": "2022-01-24T17:30:07.921Z"
   },
   {
    "duration": 40,
    "start_time": "2022-01-24T17:30:07.934Z"
   },
   {
    "duration": 21,
    "start_time": "2022-01-24T17:30:07.976Z"
   },
   {
    "duration": 75,
    "start_time": "2022-01-24T17:30:08.000Z"
   },
   {
    "duration": 18,
    "start_time": "2022-01-24T17:30:08.080Z"
   },
   {
    "duration": 14,
    "start_time": "2022-01-24T17:30:08.102Z"
   },
   {
    "duration": 225,
    "start_time": "2022-01-24T17:30:08.118Z"
   },
   {
    "duration": 109,
    "start_time": "2022-01-24T17:30:08.345Z"
   },
   {
    "duration": 12,
    "start_time": "2022-01-24T17:30:08.457Z"
   },
   {
    "duration": 16,
    "start_time": "2022-01-24T17:30:08.472Z"
   },
   {
    "duration": 1005,
    "start_time": "2022-01-24T17:30:08.491Z"
   },
   {
    "duration": 1092,
    "start_time": "2022-01-24T17:30:09.499Z"
   },
   {
    "duration": 33,
    "start_time": "2022-01-24T17:30:10.594Z"
   },
   {
    "duration": 42,
    "start_time": "2022-01-24T17:30:10.630Z"
   },
   {
    "duration": 796,
    "start_time": "2022-01-24T17:30:10.674Z"
   },
   {
    "duration": 338,
    "start_time": "2022-01-24T17:30:11.472Z"
   },
   {
    "duration": 408,
    "start_time": "2022-01-24T17:30:11.813Z"
   },
   {
    "duration": 411,
    "start_time": "2022-01-24T17:30:12.224Z"
   },
   {
    "duration": 958,
    "start_time": "2022-01-24T17:30:12.638Z"
   },
   {
    "duration": -537,
    "start_time": "2022-01-24T17:30:14.136Z"
   },
   {
    "duration": -549,
    "start_time": "2022-01-24T17:30:14.149Z"
   },
   {
    "duration": -554,
    "start_time": "2022-01-24T17:30:14.156Z"
   },
   {
    "duration": -560,
    "start_time": "2022-01-24T17:30:14.163Z"
   },
   {
    "duration": -568,
    "start_time": "2022-01-24T17:30:14.173Z"
   },
   {
    "duration": 191,
    "start_time": "2022-01-24T17:30:20.640Z"
   },
   {
    "duration": 195,
    "start_time": "2022-01-24T17:30:28.489Z"
   },
   {
    "duration": 123,
    "start_time": "2022-01-24T17:31:44.929Z"
   },
   {
    "duration": 182,
    "start_time": "2022-01-24T17:31:52.098Z"
   },
   {
    "duration": 327,
    "start_time": "2022-01-24T17:32:53.879Z"
   },
   {
    "duration": 20,
    "start_time": "2022-01-24T17:34:41.831Z"
   },
   {
    "duration": 28,
    "start_time": "2022-01-24T17:35:16.262Z"
   },
   {
    "duration": 20,
    "start_time": "2022-01-24T17:35:20.277Z"
   },
   {
    "duration": 41,
    "start_time": "2022-01-24T17:35:42.301Z"
   },
   {
    "duration": 1378,
    "start_time": "2022-01-24T17:38:11.969Z"
   },
   {
    "duration": 994,
    "start_time": "2022-01-24T17:38:38.635Z"
   },
   {
    "duration": 997,
    "start_time": "2022-01-24T17:38:45.936Z"
   },
   {
    "duration": 1011,
    "start_time": "2022-01-24T17:39:44.359Z"
   },
   {
    "duration": 1011,
    "start_time": "2022-01-24T17:39:48.502Z"
   },
   {
    "duration": 21194,
    "start_time": "2022-01-24T17:40:21.779Z"
   },
   {
    "duration": 46,
    "start_time": "2022-01-24T17:40:42.976Z"
   },
   {
    "duration": 148,
    "start_time": "2022-01-24T17:40:43.025Z"
   },
   {
    "duration": 15,
    "start_time": "2022-01-24T17:40:43.176Z"
   },
   {
    "duration": 27,
    "start_time": "2022-01-24T17:40:43.194Z"
   },
   {
    "duration": 871,
    "start_time": "2022-01-24T17:40:43.223Z"
   },
   {
    "duration": 57,
    "start_time": "2022-01-24T17:40:44.096Z"
   },
   {
    "duration": 234,
    "start_time": "2022-01-24T17:40:44.156Z"
   },
   {
    "duration": 91,
    "start_time": "2022-01-24T17:40:44.394Z"
   },
   {
    "duration": 879,
    "start_time": "2022-01-24T17:40:44.488Z"
   },
   {
    "duration": 13,
    "start_time": "2022-01-24T17:40:45.370Z"
   },
   {
    "duration": 9,
    "start_time": "2022-01-24T17:40:45.385Z"
   },
   {
    "duration": 20,
    "start_time": "2022-01-24T17:40:45.396Z"
   },
   {
    "duration": 4987,
    "start_time": "2022-01-24T17:40:45.418Z"
   },
   {
    "duration": 8,
    "start_time": "2022-01-24T17:40:50.407Z"
   },
   {
    "duration": 12,
    "start_time": "2022-01-24T17:40:50.417Z"
   },
   {
    "duration": 30,
    "start_time": "2022-01-24T17:40:50.431Z"
   },
   {
    "duration": 49,
    "start_time": "2022-01-24T17:40:50.464Z"
   },
   {
    "duration": 8,
    "start_time": "2022-01-24T17:40:50.516Z"
   },
   {
    "duration": 10,
    "start_time": "2022-01-24T17:40:50.526Z"
   },
   {
    "duration": 11,
    "start_time": "2022-01-24T17:40:50.539Z"
   },
   {
    "duration": 34,
    "start_time": "2022-01-24T17:40:50.552Z"
   },
   {
    "duration": 17,
    "start_time": "2022-01-24T17:40:50.591Z"
   },
   {
    "duration": 13,
    "start_time": "2022-01-24T17:40:50.611Z"
   },
   {
    "duration": 209,
    "start_time": "2022-01-24T17:40:50.627Z"
   },
   {
    "duration": 134,
    "start_time": "2022-01-24T17:40:50.838Z"
   },
   {
    "duration": 3,
    "start_time": "2022-01-24T17:40:50.974Z"
   },
   {
    "duration": 15,
    "start_time": "2022-01-24T17:40:50.980Z"
   },
   {
    "duration": 1309,
    "start_time": "2022-01-24T17:40:50.998Z"
   },
   {
    "duration": 2178,
    "start_time": "2022-01-24T17:40:52.311Z"
   },
   {
    "duration": 33,
    "start_time": "2022-01-24T17:40:54.492Z"
   },
   {
    "duration": 53,
    "start_time": "2022-01-24T17:40:54.529Z"
   },
   {
    "duration": 816,
    "start_time": "2022-01-24T17:40:54.584Z"
   },
   {
    "duration": 304,
    "start_time": "2022-01-24T17:40:55.402Z"
   },
   {
    "duration": 683,
    "start_time": "2022-01-24T17:40:55.709Z"
   },
   {
    "duration": 462,
    "start_time": "2022-01-24T17:40:56.394Z"
   },
   {
    "duration": 341,
    "start_time": "2022-01-24T17:40:56.859Z"
   },
   {
    "duration": 28,
    "start_time": "2022-01-24T17:40:57.202Z"
   },
   {
    "duration": 42,
    "start_time": "2022-01-24T17:40:57.232Z"
   },
   {
    "duration": 14,
    "start_time": "2022-01-24T17:40:57.276Z"
   },
   {
    "duration": 34,
    "start_time": "2022-01-24T17:40:57.292Z"
   },
   {
    "duration": 9,
    "start_time": "2022-01-24T17:40:57.329Z"
   },
   {
    "duration": 47,
    "start_time": "2022-01-24T17:40:57.340Z"
   },
   {
    "duration": 10,
    "start_time": "2022-01-24T17:47:52.947Z"
   },
   {
    "duration": 21,
    "start_time": "2022-01-24T17:47:53.330Z"
   },
   {
    "duration": 10,
    "start_time": "2022-01-24T17:48:12.513Z"
   },
   {
    "duration": 22,
    "start_time": "2022-01-24T17:53:02.711Z"
   },
   {
    "duration": 12,
    "start_time": "2022-01-24T17:53:24.598Z"
   },
   {
    "duration": 12,
    "start_time": "2022-01-24T17:53:27.365Z"
   },
   {
    "duration": 402,
    "start_time": "2022-01-24T18:16:47.438Z"
   },
   {
    "duration": 2057,
    "start_time": "2022-01-24T18:17:02.995Z"
   },
   {
    "duration": 45,
    "start_time": "2022-01-24T18:17:05.055Z"
   },
   {
    "duration": 129,
    "start_time": "2022-01-24T18:17:05.103Z"
   },
   {
    "duration": 27,
    "start_time": "2022-01-24T18:17:05.236Z"
   },
   {
    "duration": 24,
    "start_time": "2022-01-24T18:17:05.266Z"
   },
   {
    "duration": 825,
    "start_time": "2022-01-24T18:17:05.293Z"
   },
   {
    "duration": 61,
    "start_time": "2022-01-24T18:17:06.120Z"
   },
   {
    "duration": 240,
    "start_time": "2022-01-24T18:17:06.185Z"
   },
   {
    "duration": 70,
    "start_time": "2022-01-24T18:17:06.428Z"
   },
   {
    "duration": 58,
    "start_time": "2022-01-24T18:17:06.501Z"
   },
   {
    "duration": 14,
    "start_time": "2022-01-24T18:17:06.562Z"
   },
   {
    "duration": 9,
    "start_time": "2022-01-24T18:17:06.578Z"
   },
   {
    "duration": 20,
    "start_time": "2022-01-24T18:17:06.589Z"
   },
   {
    "duration": 4387,
    "start_time": "2022-01-24T18:17:06.611Z"
   },
   {
    "duration": 8,
    "start_time": "2022-01-24T18:17:11.000Z"
   },
   {
    "duration": 8,
    "start_time": "2022-01-24T18:17:11.010Z"
   },
   {
    "duration": 53,
    "start_time": "2022-01-24T18:17:11.021Z"
   },
   {
    "duration": 46,
    "start_time": "2022-01-24T18:17:11.076Z"
   },
   {
    "duration": 36,
    "start_time": "2022-01-24T18:17:11.125Z"
   },
   {
    "duration": 9,
    "start_time": "2022-01-24T18:17:11.163Z"
   },
   {
    "duration": 11,
    "start_time": "2022-01-24T18:17:11.174Z"
   },
   {
    "duration": 33,
    "start_time": "2022-01-24T18:17:11.187Z"
   },
   {
    "duration": 50,
    "start_time": "2022-01-24T18:17:11.226Z"
   },
   {
    "duration": 12,
    "start_time": "2022-01-24T18:17:11.280Z"
   },
   {
    "duration": 217,
    "start_time": "2022-01-24T18:17:11.295Z"
   },
   {
    "duration": 109,
    "start_time": "2022-01-24T18:17:11.515Z"
   },
   {
    "duration": 3,
    "start_time": "2022-01-24T18:17:11.627Z"
   },
   {
    "duration": 30,
    "start_time": "2022-01-24T18:17:11.632Z"
   },
   {
    "duration": 1010,
    "start_time": "2022-01-24T18:17:11.665Z"
   },
   {
    "duration": 1074,
    "start_time": "2022-01-24T18:17:12.677Z"
   },
   {
    "duration": 37,
    "start_time": "2022-01-24T18:17:13.754Z"
   },
   {
    "duration": 19,
    "start_time": "2022-01-24T18:17:13.793Z"
   },
   {
    "duration": 780,
    "start_time": "2022-01-24T18:17:13.814Z"
   },
   {
    "duration": 299,
    "start_time": "2022-01-24T18:17:14.597Z"
   },
   {
    "duration": 405,
    "start_time": "2022-01-24T18:17:14.899Z"
   },
   {
    "duration": 413,
    "start_time": "2022-01-24T18:17:15.307Z"
   },
   {
    "duration": 319,
    "start_time": "2022-01-24T18:17:15.723Z"
   },
   {
    "duration": 35,
    "start_time": "2022-01-24T18:17:16.045Z"
   },
   {
    "duration": 9,
    "start_time": "2022-01-24T18:17:16.082Z"
   },
   {
    "duration": 10,
    "start_time": "2022-01-24T18:17:16.094Z"
   },
   {
    "duration": 70,
    "start_time": "2022-01-24T18:17:16.106Z"
   },
   {
    "duration": 10,
    "start_time": "2022-01-24T18:17:16.178Z"
   },
   {
    "duration": 27,
    "start_time": "2022-01-24T18:17:16.191Z"
   },
   {
    "duration": 1031,
    "start_time": "2022-01-24T18:17:22.858Z"
   },
   {
    "duration": 1005,
    "start_time": "2022-01-24T18:17:31.834Z"
   },
   {
    "duration": 1014,
    "start_time": "2022-01-24T18:17:43.792Z"
   },
   {
    "duration": 1121,
    "start_time": "2022-01-24T18:18:51.947Z"
   },
   {
    "duration": 1038,
    "start_time": "2022-01-24T18:19:00.136Z"
   },
   {
    "duration": 1007,
    "start_time": "2022-01-24T18:19:09.554Z"
   },
   {
    "duration": 332,
    "start_time": "2022-01-24T18:20:29.721Z"
   },
   {
    "duration": 190,
    "start_time": "2022-01-24T18:20:40.043Z"
   },
   {
    "duration": 336,
    "start_time": "2022-01-25T08:54:50.955Z"
   },
   {
    "duration": 1548,
    "start_time": "2022-01-25T08:54:57.490Z"
   },
   {
    "duration": 46,
    "start_time": "2022-01-25T08:54:59.040Z"
   },
   {
    "duration": 222,
    "start_time": "2022-01-25T08:54:59.088Z"
   },
   {
    "duration": 9,
    "start_time": "2022-01-25T08:54:59.312Z"
   },
   {
    "duration": 43,
    "start_time": "2022-01-25T08:54:59.323Z"
   },
   {
    "duration": 842,
    "start_time": "2022-01-25T08:54:59.367Z"
   },
   {
    "duration": 40,
    "start_time": "2022-01-25T08:55:00.211Z"
   },
   {
    "duration": 198,
    "start_time": "2022-01-25T08:55:00.263Z"
   },
   {
    "duration": 58,
    "start_time": "2022-01-25T08:55:00.463Z"
   },
   {
    "duration": 46,
    "start_time": "2022-01-25T08:55:00.522Z"
   },
   {
    "duration": 9,
    "start_time": "2022-01-25T08:55:00.570Z"
   },
   {
    "duration": 9,
    "start_time": "2022-01-25T08:55:00.581Z"
   },
   {
    "duration": 19,
    "start_time": "2022-01-25T08:55:00.591Z"
   },
   {
    "duration": 2317,
    "start_time": "2022-01-25T08:55:00.612Z"
   },
   {
    "duration": 6,
    "start_time": "2022-01-25T08:55:02.931Z"
   },
   {
    "duration": 35,
    "start_time": "2022-01-25T08:55:02.939Z"
   },
   {
    "duration": 32,
    "start_time": "2022-01-25T08:55:02.976Z"
   },
   {
    "duration": 32,
    "start_time": "2022-01-25T08:55:03.010Z"
   },
   {
    "duration": 22,
    "start_time": "2022-01-25T08:55:03.044Z"
   },
   {
    "duration": 15,
    "start_time": "2022-01-25T08:55:03.068Z"
   },
   {
    "duration": 28,
    "start_time": "2022-01-25T08:55:03.084Z"
   },
   {
    "duration": 22,
    "start_time": "2022-01-25T08:55:03.114Z"
   },
   {
    "duration": 12,
    "start_time": "2022-01-25T08:55:03.140Z"
   },
   {
    "duration": 13,
    "start_time": "2022-01-25T08:55:03.154Z"
   },
   {
    "duration": 169,
    "start_time": "2022-01-25T08:55:03.169Z"
   },
   {
    "duration": 72,
    "start_time": "2022-01-25T08:55:03.340Z"
   },
   {
    "duration": 2,
    "start_time": "2022-01-25T08:55:03.414Z"
   },
   {
    "duration": 23,
    "start_time": "2022-01-25T08:55:03.418Z"
   },
   {
    "duration": 642,
    "start_time": "2022-01-25T08:55:03.443Z"
   },
   {
    "duration": 723,
    "start_time": "2022-01-25T08:55:04.087Z"
   },
   {
    "duration": 25,
    "start_time": "2022-01-25T08:55:04.812Z"
   },
   {
    "duration": 28,
    "start_time": "2022-01-25T08:55:04.839Z"
   },
   {
    "duration": 598,
    "start_time": "2022-01-25T08:55:04.868Z"
   },
   {
    "duration": 233,
    "start_time": "2022-01-25T08:55:05.467Z"
   },
   {
    "duration": 280,
    "start_time": "2022-01-25T08:55:05.702Z"
   },
   {
    "duration": 255,
    "start_time": "2022-01-25T08:55:05.984Z"
   },
   {
    "duration": 267,
    "start_time": "2022-01-25T08:55:06.241Z"
   },
   {
    "duration": 17,
    "start_time": "2022-01-25T08:55:06.510Z"
   },
   {
    "duration": 40,
    "start_time": "2022-01-25T08:55:06.529Z"
   },
   {
    "duration": 16,
    "start_time": "2022-01-25T08:55:06.572Z"
   },
   {
    "duration": 31,
    "start_time": "2022-01-25T08:55:06.590Z"
   },
   {
    "duration": 65,
    "start_time": "2022-01-25T08:55:06.623Z"
   },
   {
    "duration": 7,
    "start_time": "2022-01-25T08:56:30.462Z"
   },
   {
    "duration": 6,
    "start_time": "2022-01-25T08:56:32.627Z"
   },
   {
    "duration": 1617,
    "start_time": "2022-01-25T08:57:02.332Z"
   },
   {
    "duration": 36,
    "start_time": "2022-01-25T08:57:03.951Z"
   },
   {
    "duration": 135,
    "start_time": "2022-01-25T08:57:03.990Z"
   },
   {
    "duration": 8,
    "start_time": "2022-01-25T08:57:04.127Z"
   },
   {
    "duration": 46,
    "start_time": "2022-01-25T08:57:04.137Z"
   },
   {
    "duration": 675,
    "start_time": "2022-01-25T08:57:04.185Z"
   },
   {
    "duration": 42,
    "start_time": "2022-01-25T08:57:04.862Z"
   },
   {
    "duration": 213,
    "start_time": "2022-01-25T08:57:04.906Z"
   },
   {
    "duration": 58,
    "start_time": "2022-01-25T08:57:05.122Z"
   },
   {
    "duration": 39,
    "start_time": "2022-01-25T08:57:05.181Z"
   },
   {
    "duration": 40,
    "start_time": "2022-01-25T08:57:05.221Z"
   },
   {
    "duration": 31,
    "start_time": "2022-01-25T08:57:05.263Z"
   },
   {
    "duration": 50,
    "start_time": "2022-01-25T08:57:05.296Z"
   },
   {
    "duration": 2296,
    "start_time": "2022-01-25T08:57:05.347Z"
   },
   {
    "duration": 5,
    "start_time": "2022-01-25T08:57:07.645Z"
   },
   {
    "duration": 43,
    "start_time": "2022-01-25T08:57:07.652Z"
   },
   {
    "duration": 39,
    "start_time": "2022-01-25T08:57:07.697Z"
   },
   {
    "duration": 47,
    "start_time": "2022-01-25T08:57:07.738Z"
   },
   {
    "duration": 6,
    "start_time": "2022-01-25T08:57:07.787Z"
   },
   {
    "duration": 56,
    "start_time": "2022-01-25T08:57:07.795Z"
   },
   {
    "duration": 35,
    "start_time": "2022-01-25T08:57:07.853Z"
   },
   {
    "duration": 51,
    "start_time": "2022-01-25T08:57:07.890Z"
   },
   {
    "duration": 36,
    "start_time": "2022-01-25T08:57:07.945Z"
   },
   {
    "duration": 33,
    "start_time": "2022-01-25T08:57:07.984Z"
   },
   {
    "duration": 190,
    "start_time": "2022-01-25T08:57:08.019Z"
   },
   {
    "duration": 71,
    "start_time": "2022-01-25T08:57:08.211Z"
   },
   {
    "duration": 2,
    "start_time": "2022-01-25T08:57:08.284Z"
   },
   {
    "duration": 27,
    "start_time": "2022-01-25T08:57:08.288Z"
   },
   {
    "duration": 667,
    "start_time": "2022-01-25T08:57:08.316Z"
   },
   {
    "duration": 734,
    "start_time": "2022-01-25T08:57:08.985Z"
   },
   {
    "duration": 25,
    "start_time": "2022-01-25T08:57:09.720Z"
   },
   {
    "duration": 23,
    "start_time": "2022-01-25T08:57:09.747Z"
   },
   {
    "duration": 553,
    "start_time": "2022-01-25T08:57:09.771Z"
   },
   {
    "duration": 191,
    "start_time": "2022-01-25T08:57:10.326Z"
   },
   {
    "duration": 283,
    "start_time": "2022-01-25T08:57:10.519Z"
   },
   {
    "duration": 250,
    "start_time": "2022-01-25T08:57:10.804Z"
   },
   {
    "duration": 259,
    "start_time": "2022-01-25T08:57:11.060Z"
   },
   {
    "duration": 17,
    "start_time": "2022-01-25T08:57:11.320Z"
   },
   {
    "duration": 69,
    "start_time": "2022-01-25T08:57:11.339Z"
   },
   {
    "duration": 4,
    "start_time": "2022-01-25T08:57:11.410Z"
   },
   {
    "duration": 10,
    "start_time": "2022-01-25T08:57:11.416Z"
   },
   {
    "duration": 11,
    "start_time": "2022-01-25T08:57:11.427Z"
   },
   {
    "duration": 8,
    "start_time": "2022-01-25T08:57:11.439Z"
   },
   {
    "duration": 26,
    "start_time": "2022-01-25T08:57:11.449Z"
   },
   {
    "duration": 1667,
    "start_time": "2022-01-25T08:57:52.777Z"
   },
   {
    "duration": 37,
    "start_time": "2022-01-25T08:57:54.446Z"
   },
   {
    "duration": 109,
    "start_time": "2022-01-25T08:57:54.486Z"
   },
   {
    "duration": 9,
    "start_time": "2022-01-25T08:57:54.597Z"
   },
   {
    "duration": 24,
    "start_time": "2022-01-25T08:57:54.608Z"
   },
   {
    "duration": 664,
    "start_time": "2022-01-25T08:57:54.634Z"
   },
   {
    "duration": 39,
    "start_time": "2022-01-25T08:57:55.299Z"
   },
   {
    "duration": 193,
    "start_time": "2022-01-25T08:57:55.340Z"
   },
   {
    "duration": 56,
    "start_time": "2022-01-25T08:57:55.535Z"
   },
   {
    "duration": 38,
    "start_time": "2022-01-25T08:57:55.593Z"
   },
   {
    "duration": 9,
    "start_time": "2022-01-25T08:57:55.633Z"
   },
   {
    "duration": 31,
    "start_time": "2022-01-25T08:57:55.644Z"
   },
   {
    "duration": 23,
    "start_time": "2022-01-25T08:57:55.677Z"
   },
   {
    "duration": 2380,
    "start_time": "2022-01-25T08:57:55.702Z"
   },
   {
    "duration": 6,
    "start_time": "2022-01-25T08:57:58.084Z"
   },
   {
    "duration": 9,
    "start_time": "2022-01-25T08:57:58.091Z"
   },
   {
    "duration": 32,
    "start_time": "2022-01-25T08:57:58.101Z"
   },
   {
    "duration": 35,
    "start_time": "2022-01-25T08:57:58.135Z"
   },
   {
    "duration": 6,
    "start_time": "2022-01-25T08:57:58.172Z"
   },
   {
    "duration": 28,
    "start_time": "2022-01-25T08:57:58.179Z"
   },
   {
    "duration": 12,
    "start_time": "2022-01-25T08:57:58.209Z"
   },
   {
    "duration": 38,
    "start_time": "2022-01-25T08:57:58.223Z"
   },
   {
    "duration": 11,
    "start_time": "2022-01-25T08:57:58.264Z"
   },
   {
    "duration": 28,
    "start_time": "2022-01-25T08:57:58.277Z"
   },
   {
    "duration": 166,
    "start_time": "2022-01-25T08:57:58.306Z"
   },
   {
    "duration": 63,
    "start_time": "2022-01-25T08:57:58.474Z"
   },
   {
    "duration": 3,
    "start_time": "2022-01-25T08:57:58.538Z"
   },
   {
    "duration": 23,
    "start_time": "2022-01-25T08:57:58.542Z"
   },
   {
    "duration": 629,
    "start_time": "2022-01-25T08:57:58.567Z"
   },
   {
    "duration": 717,
    "start_time": "2022-01-25T08:57:59.198Z"
   },
   {
    "duration": 24,
    "start_time": "2022-01-25T08:57:59.917Z"
   },
   {
    "duration": 25,
    "start_time": "2022-01-25T08:57:59.943Z"
   },
   {
    "duration": 566,
    "start_time": "2022-01-25T08:57:59.969Z"
   },
   {
    "duration": 265,
    "start_time": "2022-01-25T08:58:00.537Z"
   },
   {
    "duration": 262,
    "start_time": "2022-01-25T08:58:00.804Z"
   },
   {
    "duration": 252,
    "start_time": "2022-01-25T08:58:01.068Z"
   },
   {
    "duration": 278,
    "start_time": "2022-01-25T08:58:01.322Z"
   },
   {
    "duration": 19,
    "start_time": "2022-01-25T08:58:01.601Z"
   },
   {
    "duration": 41,
    "start_time": "2022-01-25T08:58:01.622Z"
   },
   {
    "duration": 5,
    "start_time": "2022-01-25T08:58:01.665Z"
   },
   {
    "duration": 30,
    "start_time": "2022-01-25T08:58:01.672Z"
   },
   {
    "duration": 33,
    "start_time": "2022-01-25T08:58:01.704Z"
   },
   {
    "duration": 38,
    "start_time": "2022-01-25T08:58:01.739Z"
   },
   {
    "duration": 47,
    "start_time": "2022-01-25T08:58:01.779Z"
   },
   {
    "duration": 5,
    "start_time": "2022-01-25T09:03:01.050Z"
   },
   {
    "duration": 1618,
    "start_time": "2022-01-25T09:03:13.218Z"
   },
   {
    "duration": 37,
    "start_time": "2022-01-25T09:03:14.838Z"
   },
   {
    "duration": 110,
    "start_time": "2022-01-25T09:03:14.877Z"
   },
   {
    "duration": 8,
    "start_time": "2022-01-25T09:03:14.989Z"
   },
   {
    "duration": 39,
    "start_time": "2022-01-25T09:03:14.998Z"
   },
   {
    "duration": 661,
    "start_time": "2022-01-25T09:03:15.038Z"
   },
   {
    "duration": 42,
    "start_time": "2022-01-25T09:03:15.701Z"
   },
   {
    "duration": 202,
    "start_time": "2022-01-25T09:03:15.746Z"
   },
   {
    "duration": 57,
    "start_time": "2022-01-25T09:03:15.950Z"
   },
   {
    "duration": 38,
    "start_time": "2022-01-25T09:03:16.009Z"
   },
   {
    "duration": 21,
    "start_time": "2022-01-25T09:03:16.049Z"
   },
   {
    "duration": 37,
    "start_time": "2022-01-25T09:03:16.072Z"
   },
   {
    "duration": 44,
    "start_time": "2022-01-25T09:03:16.111Z"
   },
   {
    "duration": 2267,
    "start_time": "2022-01-25T09:03:16.157Z"
   },
   {
    "duration": 6,
    "start_time": "2022-01-25T09:03:18.426Z"
   },
   {
    "duration": 25,
    "start_time": "2022-01-25T09:03:18.435Z"
   },
   {
    "duration": 44,
    "start_time": "2022-01-25T09:03:18.461Z"
   },
   {
    "duration": 56,
    "start_time": "2022-01-25T09:03:18.507Z"
   },
   {
    "duration": 21,
    "start_time": "2022-01-25T09:03:18.564Z"
   },
   {
    "duration": 39,
    "start_time": "2022-01-25T09:03:18.587Z"
   },
   {
    "duration": 29,
    "start_time": "2022-01-25T09:03:18.628Z"
   },
   {
    "duration": 42,
    "start_time": "2022-01-25T09:03:18.659Z"
   },
   {
    "duration": 17,
    "start_time": "2022-01-25T09:03:18.704Z"
   },
   {
    "duration": 15,
    "start_time": "2022-01-25T09:03:18.724Z"
   },
   {
    "duration": 190,
    "start_time": "2022-01-25T09:03:18.741Z"
   },
   {
    "duration": 78,
    "start_time": "2022-01-25T09:03:18.935Z"
   },
   {
    "duration": 2,
    "start_time": "2022-01-25T09:03:19.015Z"
   },
   {
    "duration": 42,
    "start_time": "2022-01-25T09:03:19.019Z"
   },
   {
    "duration": 736,
    "start_time": "2022-01-25T09:03:19.063Z"
   },
   {
    "duration": 732,
    "start_time": "2022-01-25T09:03:19.801Z"
   },
   {
    "duration": 38,
    "start_time": "2022-01-25T09:03:20.536Z"
   },
   {
    "duration": 14,
    "start_time": "2022-01-25T09:03:20.576Z"
   },
   {
    "duration": 558,
    "start_time": "2022-01-25T09:03:20.592Z"
   },
   {
    "duration": 240,
    "start_time": "2022-01-25T09:03:21.152Z"
   },
   {
    "duration": 248,
    "start_time": "2022-01-25T09:03:21.394Z"
   },
   {
    "duration": 256,
    "start_time": "2022-01-25T09:03:21.644Z"
   },
   {
    "duration": 270,
    "start_time": "2022-01-25T09:03:21.901Z"
   },
   {
    "duration": 17,
    "start_time": "2022-01-25T09:03:22.173Z"
   },
   {
    "duration": 35,
    "start_time": "2022-01-25T09:03:22.192Z"
   },
   {
    "duration": 13,
    "start_time": "2022-01-25T09:03:22.229Z"
   },
   {
    "duration": 30,
    "start_time": "2022-01-25T09:03:22.244Z"
   },
   {
    "duration": 26,
    "start_time": "2022-01-25T09:03:22.276Z"
   },
   {
    "duration": 24,
    "start_time": "2022-01-25T09:03:22.304Z"
   },
   {
    "duration": 33,
    "start_time": "2022-01-25T09:03:22.330Z"
   },
   {
    "duration": 46,
    "start_time": "2022-01-25T09:03:22.365Z"
   },
   {
    "duration": 7,
    "start_time": "2022-01-25T09:04:01.657Z"
   },
   {
    "duration": 1594,
    "start_time": "2022-01-25T09:04:11.096Z"
   },
   {
    "duration": 37,
    "start_time": "2022-01-25T09:04:12.692Z"
   },
   {
    "duration": 111,
    "start_time": "2022-01-25T09:04:12.731Z"
   },
   {
    "duration": 22,
    "start_time": "2022-01-25T09:04:12.844Z"
   },
   {
    "duration": 27,
    "start_time": "2022-01-25T09:04:12.868Z"
   },
   {
    "duration": 739,
    "start_time": "2022-01-25T09:04:12.897Z"
   },
   {
    "duration": 107,
    "start_time": "2022-01-25T09:04:13.637Z"
   },
   {
    "duration": 193,
    "start_time": "2022-01-25T09:04:13.747Z"
   },
   {
    "duration": 55,
    "start_time": "2022-01-25T09:04:13.942Z"
   },
   {
    "duration": 42,
    "start_time": "2022-01-25T09:04:13.998Z"
   },
   {
    "duration": 19,
    "start_time": "2022-01-25T09:04:14.042Z"
   },
   {
    "duration": 9,
    "start_time": "2022-01-25T09:04:14.063Z"
   },
   {
    "duration": 41,
    "start_time": "2022-01-25T09:04:14.074Z"
   },
   {
    "duration": 3006,
    "start_time": "2022-01-25T09:04:14.117Z"
   },
   {
    "duration": 7,
    "start_time": "2022-01-25T09:04:17.125Z"
   },
   {
    "duration": 29,
    "start_time": "2022-01-25T09:04:17.133Z"
   },
   {
    "duration": 43,
    "start_time": "2022-01-25T09:04:17.164Z"
   },
   {
    "duration": 55,
    "start_time": "2022-01-25T09:04:17.209Z"
   },
   {
    "duration": 7,
    "start_time": "2022-01-25T09:04:17.265Z"
   },
   {
    "duration": 36,
    "start_time": "2022-01-25T09:04:17.274Z"
   },
   {
    "duration": 19,
    "start_time": "2022-01-25T09:04:17.312Z"
   },
   {
    "duration": 38,
    "start_time": "2022-01-25T09:04:17.332Z"
   },
   {
    "duration": 15,
    "start_time": "2022-01-25T09:04:17.373Z"
   },
   {
    "duration": 10,
    "start_time": "2022-01-25T09:04:17.390Z"
   },
   {
    "duration": 174,
    "start_time": "2022-01-25T09:04:17.402Z"
   },
   {
    "duration": 85,
    "start_time": "2022-01-25T09:04:17.578Z"
   },
   {
    "duration": 2,
    "start_time": "2022-01-25T09:04:17.665Z"
   },
   {
    "duration": 16,
    "start_time": "2022-01-25T09:04:17.669Z"
   },
   {
    "duration": 644,
    "start_time": "2022-01-25T09:04:17.686Z"
   },
   {
    "duration": 719,
    "start_time": "2022-01-25T09:04:18.332Z"
   },
   {
    "duration": 27,
    "start_time": "2022-01-25T09:04:19.060Z"
   },
   {
    "duration": 16,
    "start_time": "2022-01-25T09:04:19.090Z"
   },
   {
    "duration": 581,
    "start_time": "2022-01-25T09:04:19.108Z"
   },
   {
    "duration": 309,
    "start_time": "2022-01-25T09:04:19.692Z"
   },
   {
    "duration": 279,
    "start_time": "2022-01-25T09:04:20.003Z"
   },
   {
    "duration": 247,
    "start_time": "2022-01-25T09:04:20.284Z"
   },
   {
    "duration": 272,
    "start_time": "2022-01-25T09:04:20.533Z"
   },
   {
    "duration": 18,
    "start_time": "2022-01-25T09:04:20.807Z"
   },
   {
    "duration": 40,
    "start_time": "2022-01-25T09:04:20.826Z"
   },
   {
    "duration": 6,
    "start_time": "2022-01-25T09:04:20.867Z"
   },
   {
    "duration": 7,
    "start_time": "2022-01-25T09:04:20.874Z"
   },
   {
    "duration": 9,
    "start_time": "2022-01-25T09:04:20.883Z"
   },
   {
    "duration": 24,
    "start_time": "2022-01-25T09:04:20.893Z"
   },
   {
    "duration": 1670,
    "start_time": "2022-01-25T09:05:18.879Z"
   },
   {
    "duration": 38,
    "start_time": "2022-01-25T09:05:20.551Z"
   },
   {
    "duration": 128,
    "start_time": "2022-01-25T09:05:20.591Z"
   },
   {
    "duration": 8,
    "start_time": "2022-01-25T09:05:20.721Z"
   },
   {
    "duration": 35,
    "start_time": "2022-01-25T09:05:20.731Z"
   },
   {
    "duration": 662,
    "start_time": "2022-01-25T09:05:20.768Z"
   },
   {
    "duration": 47,
    "start_time": "2022-01-25T09:05:21.432Z"
   },
   {
    "duration": 198,
    "start_time": "2022-01-25T09:05:21.481Z"
   },
   {
    "duration": 53,
    "start_time": "2022-01-25T09:05:21.681Z"
   },
   {
    "duration": 44,
    "start_time": "2022-01-25T09:05:21.736Z"
   },
   {
    "duration": 9,
    "start_time": "2022-01-25T09:05:21.782Z"
   },
   {
    "duration": 9,
    "start_time": "2022-01-25T09:05:21.793Z"
   },
   {
    "duration": 23,
    "start_time": "2022-01-25T09:05:21.804Z"
   },
   {
    "duration": 2279,
    "start_time": "2022-01-25T09:05:21.829Z"
   },
   {
    "duration": 5,
    "start_time": "2022-01-25T09:05:24.110Z"
   },
   {
    "duration": 7,
    "start_time": "2022-01-25T09:05:24.117Z"
   },
   {
    "duration": 36,
    "start_time": "2022-01-25T09:05:24.126Z"
   },
   {
    "duration": 35,
    "start_time": "2022-01-25T09:05:24.163Z"
   },
   {
    "duration": 6,
    "start_time": "2022-01-25T09:05:24.199Z"
   },
   {
    "duration": 12,
    "start_time": "2022-01-25T09:05:24.206Z"
   },
   {
    "duration": 8,
    "start_time": "2022-01-25T09:05:24.219Z"
   },
   {
    "duration": 48,
    "start_time": "2022-01-25T09:05:24.230Z"
   },
   {
    "duration": 12,
    "start_time": "2022-01-25T09:05:24.283Z"
   },
   {
    "duration": 10,
    "start_time": "2022-01-25T09:05:24.298Z"
   },
   {
    "duration": 186,
    "start_time": "2022-01-25T09:05:24.310Z"
   },
   {
    "duration": 77,
    "start_time": "2022-01-25T09:05:24.497Z"
   },
   {
    "duration": 2,
    "start_time": "2022-01-25T09:05:24.576Z"
   },
   {
    "duration": 35,
    "start_time": "2022-01-25T09:05:24.580Z"
   },
   {
    "duration": 686,
    "start_time": "2022-01-25T09:05:24.616Z"
   },
   {
    "duration": 739,
    "start_time": "2022-01-25T09:05:25.304Z"
   },
   {
    "duration": 34,
    "start_time": "2022-01-25T09:05:26.044Z"
   },
   {
    "duration": 15,
    "start_time": "2022-01-25T09:05:26.080Z"
   },
   {
    "duration": 588,
    "start_time": "2022-01-25T09:05:26.097Z"
   },
   {
    "duration": 310,
    "start_time": "2022-01-25T09:05:26.687Z"
   },
   {
    "duration": 265,
    "start_time": "2022-01-25T09:05:26.999Z"
   },
   {
    "duration": 250,
    "start_time": "2022-01-25T09:05:27.267Z"
   },
   {
    "duration": 285,
    "start_time": "2022-01-25T09:05:27.519Z"
   },
   {
    "duration": 18,
    "start_time": "2022-01-25T09:05:27.807Z"
   },
   {
    "duration": 44,
    "start_time": "2022-01-25T09:05:27.828Z"
   },
   {
    "duration": 10,
    "start_time": "2022-01-25T09:05:27.875Z"
   },
   {
    "duration": 42,
    "start_time": "2022-01-25T09:05:27.887Z"
   },
   {
    "duration": 25,
    "start_time": "2022-01-25T09:05:27.932Z"
   },
   {
    "duration": 55,
    "start_time": "2022-01-25T09:05:27.959Z"
   },
   {
    "duration": 1561,
    "start_time": "2022-01-25T09:06:17.798Z"
   },
   {
    "duration": 40,
    "start_time": "2022-01-25T09:06:19.361Z"
   },
   {
    "duration": 133,
    "start_time": "2022-01-25T09:06:19.403Z"
   },
   {
    "duration": 9,
    "start_time": "2022-01-25T09:06:19.538Z"
   },
   {
    "duration": 34,
    "start_time": "2022-01-25T09:06:19.566Z"
   },
   {
    "duration": 668,
    "start_time": "2022-01-25T09:06:19.602Z"
   },
   {
    "duration": 40,
    "start_time": "2022-01-25T09:06:20.272Z"
   },
   {
    "duration": 196,
    "start_time": "2022-01-25T09:06:20.314Z"
   },
   {
    "duration": 61,
    "start_time": "2022-01-25T09:06:20.513Z"
   },
   {
    "duration": 39,
    "start_time": "2022-01-25T09:06:20.576Z"
   },
   {
    "duration": 10,
    "start_time": "2022-01-25T09:06:20.617Z"
   },
   {
    "duration": 38,
    "start_time": "2022-01-25T09:06:20.629Z"
   },
   {
    "duration": 42,
    "start_time": "2022-01-25T09:06:20.669Z"
   },
   {
    "duration": 2281,
    "start_time": "2022-01-25T09:06:20.713Z"
   },
   {
    "duration": 6,
    "start_time": "2022-01-25T09:06:22.997Z"
   },
   {
    "duration": 41,
    "start_time": "2022-01-25T09:06:23.004Z"
   },
   {
    "duration": 34,
    "start_time": "2022-01-25T09:06:23.047Z"
   },
   {
    "duration": 51,
    "start_time": "2022-01-25T09:06:23.082Z"
   },
   {
    "duration": 19,
    "start_time": "2022-01-25T09:06:23.135Z"
   },
   {
    "duration": 21,
    "start_time": "2022-01-25T09:06:23.155Z"
   },
   {
    "duration": 12,
    "start_time": "2022-01-25T09:06:23.177Z"
   },
   {
    "duration": 38,
    "start_time": "2022-01-25T09:06:23.191Z"
   },
   {
    "duration": 12,
    "start_time": "2022-01-25T09:06:23.233Z"
   },
   {
    "duration": 24,
    "start_time": "2022-01-25T09:06:23.247Z"
   },
   {
    "duration": 169,
    "start_time": "2022-01-25T09:06:23.273Z"
   },
   {
    "duration": 70,
    "start_time": "2022-01-25T09:06:23.444Z"
   },
   {
    "duration": 2,
    "start_time": "2022-01-25T09:06:23.516Z"
   },
   {
    "duration": 38,
    "start_time": "2022-01-25T09:06:23.520Z"
   },
   {
    "duration": 653,
    "start_time": "2022-01-25T09:06:23.560Z"
   },
   {
    "duration": 738,
    "start_time": "2022-01-25T09:06:24.215Z"
   },
   {
    "duration": 27,
    "start_time": "2022-01-25T09:06:24.955Z"
   },
   {
    "duration": 21,
    "start_time": "2022-01-25T09:06:24.984Z"
   },
   {
    "duration": 565,
    "start_time": "2022-01-25T09:06:25.007Z"
   },
   {
    "duration": 129,
    "start_time": "2022-01-25T09:06:25.575Z"
   },
   {
    "duration": 235,
    "start_time": "2022-01-25T09:06:25.706Z"
   },
   {
    "duration": 245,
    "start_time": "2022-01-25T09:06:25.943Z"
   },
   {
    "duration": 256,
    "start_time": "2022-01-25T09:06:26.189Z"
   },
   {
    "duration": 18,
    "start_time": "2022-01-25T09:06:26.446Z"
   },
   {
    "duration": 38,
    "start_time": "2022-01-25T09:06:26.466Z"
   },
   {
    "duration": 26,
    "start_time": "2022-01-25T09:06:26.506Z"
   },
   {
    "duration": 56,
    "start_time": "2022-01-25T09:06:26.534Z"
   },
   {
    "duration": 23,
    "start_time": "2022-01-25T09:06:26.592Z"
   },
   {
    "duration": 56,
    "start_time": "2022-01-25T09:06:26.617Z"
   },
   {
    "duration": 15,
    "start_time": "2022-01-25T09:07:40.967Z"
   },
   {
    "duration": 1618,
    "start_time": "2022-01-25T09:07:52.135Z"
   },
   {
    "duration": 37,
    "start_time": "2022-01-25T09:07:53.755Z"
   },
   {
    "duration": 101,
    "start_time": "2022-01-25T09:07:53.794Z"
   },
   {
    "duration": 9,
    "start_time": "2022-01-25T09:07:53.897Z"
   },
   {
    "duration": 19,
    "start_time": "2022-01-25T09:07:53.908Z"
   },
   {
    "duration": 641,
    "start_time": "2022-01-25T09:07:53.929Z"
   },
   {
    "duration": 39,
    "start_time": "2022-01-25T09:07:54.572Z"
   },
   {
    "duration": 181,
    "start_time": "2022-01-25T09:07:54.613Z"
   },
   {
    "duration": 51,
    "start_time": "2022-01-25T09:07:54.796Z"
   },
   {
    "duration": 36,
    "start_time": "2022-01-25T09:07:54.849Z"
   },
   {
    "duration": 10,
    "start_time": "2022-01-25T09:07:54.887Z"
   },
   {
    "duration": 10,
    "start_time": "2022-01-25T09:07:54.899Z"
   },
   {
    "duration": 35,
    "start_time": "2022-01-25T09:07:54.911Z"
   },
   {
    "duration": 2266,
    "start_time": "2022-01-25T09:07:54.948Z"
   },
   {
    "duration": 6,
    "start_time": "2022-01-25T09:07:57.216Z"
   },
   {
    "duration": 20,
    "start_time": "2022-01-25T09:07:57.224Z"
   },
   {
    "duration": 47,
    "start_time": "2022-01-25T09:07:57.247Z"
   },
   {
    "duration": 46,
    "start_time": "2022-01-25T09:07:57.296Z"
   },
   {
    "duration": 6,
    "start_time": "2022-01-25T09:07:57.343Z"
   },
   {
    "duration": 49,
    "start_time": "2022-01-25T09:07:57.351Z"
   },
   {
    "duration": 38,
    "start_time": "2022-01-25T09:07:57.402Z"
   },
   {
    "duration": 51,
    "start_time": "2022-01-25T09:07:57.442Z"
   },
   {
    "duration": 16,
    "start_time": "2022-01-25T09:07:57.497Z"
   },
   {
    "duration": 37,
    "start_time": "2022-01-25T09:07:57.516Z"
   },
   {
    "duration": 188,
    "start_time": "2022-01-25T09:07:57.555Z"
   },
   {
    "duration": 76,
    "start_time": "2022-01-25T09:07:57.745Z"
   },
   {
    "duration": 2,
    "start_time": "2022-01-25T09:07:57.823Z"
   },
   {
    "duration": 10,
    "start_time": "2022-01-25T09:07:57.827Z"
   },
   {
    "duration": 641,
    "start_time": "2022-01-25T09:07:57.839Z"
   },
   {
    "duration": 736,
    "start_time": "2022-01-25T09:07:58.482Z"
   },
   {
    "duration": 25,
    "start_time": "2022-01-25T09:07:59.219Z"
   },
   {
    "duration": 28,
    "start_time": "2022-01-25T09:07:59.246Z"
   },
   {
    "duration": 557,
    "start_time": "2022-01-25T09:07:59.276Z"
   },
   {
    "duration": 237,
    "start_time": "2022-01-25T09:07:59.835Z"
   },
   {
    "duration": 251,
    "start_time": "2022-01-25T09:08:00.074Z"
   },
   {
    "duration": 251,
    "start_time": "2022-01-25T09:08:00.327Z"
   },
   {
    "duration": 274,
    "start_time": "2022-01-25T09:08:00.580Z"
   },
   {
    "duration": 18,
    "start_time": "2022-01-25T09:08:00.860Z"
   },
   {
    "duration": 26,
    "start_time": "2022-01-25T09:08:00.880Z"
   },
   {
    "duration": 16,
    "start_time": "2022-01-25T09:08:00.908Z"
   },
   {
    "duration": 47,
    "start_time": "2022-01-25T09:08:00.925Z"
   },
   {
    "duration": 45,
    "start_time": "2022-01-25T09:08:00.974Z"
   },
   {
    "duration": 62,
    "start_time": "2022-01-25T09:08:01.021Z"
   },
   {
    "duration": 1633,
    "start_time": "2022-01-25T09:09:21.636Z"
   },
   {
    "duration": 36,
    "start_time": "2022-01-25T09:09:23.272Z"
   },
   {
    "duration": 116,
    "start_time": "2022-01-25T09:09:23.310Z"
   },
   {
    "duration": 9,
    "start_time": "2022-01-25T09:09:23.428Z"
   },
   {
    "duration": 45,
    "start_time": "2022-01-25T09:09:23.438Z"
   },
   {
    "duration": 652,
    "start_time": "2022-01-25T09:09:23.485Z"
   },
   {
    "duration": 49,
    "start_time": "2022-01-25T09:09:24.139Z"
   },
   {
    "duration": 202,
    "start_time": "2022-01-25T09:09:24.190Z"
   },
   {
    "duration": 51,
    "start_time": "2022-01-25T09:09:24.394Z"
   },
   {
    "duration": 37,
    "start_time": "2022-01-25T09:09:24.447Z"
   },
   {
    "duration": 13,
    "start_time": "2022-01-25T09:09:24.486Z"
   },
   {
    "duration": 28,
    "start_time": "2022-01-25T09:09:24.501Z"
   },
   {
    "duration": 48,
    "start_time": "2022-01-25T09:09:24.530Z"
   },
   {
    "duration": 2413,
    "start_time": "2022-01-25T09:09:24.580Z"
   },
   {
    "duration": 5,
    "start_time": "2022-01-25T09:09:26.995Z"
   },
   {
    "duration": 25,
    "start_time": "2022-01-25T09:09:27.002Z"
   },
   {
    "duration": 40,
    "start_time": "2022-01-25T09:09:27.029Z"
   },
   {
    "duration": 46,
    "start_time": "2022-01-25T09:09:27.070Z"
   },
   {
    "duration": 6,
    "start_time": "2022-01-25T09:09:27.118Z"
   },
   {
    "duration": 41,
    "start_time": "2022-01-25T09:09:27.125Z"
   },
   {
    "duration": 13,
    "start_time": "2022-01-25T09:09:27.168Z"
   },
   {
    "duration": 39,
    "start_time": "2022-01-25T09:09:27.183Z"
   },
   {
    "duration": 26,
    "start_time": "2022-01-25T09:09:27.226Z"
   },
   {
    "duration": 15,
    "start_time": "2022-01-25T09:09:27.255Z"
   },
   {
    "duration": 165,
    "start_time": "2022-01-25T09:09:27.272Z"
   },
   {
    "duration": 66,
    "start_time": "2022-01-25T09:09:27.439Z"
   },
   {
    "duration": 3,
    "start_time": "2022-01-25T09:09:27.507Z"
   },
   {
    "duration": 25,
    "start_time": "2022-01-25T09:09:27.511Z"
   },
   {
    "duration": 650,
    "start_time": "2022-01-25T09:09:27.538Z"
   },
   {
    "duration": 725,
    "start_time": "2022-01-25T09:09:28.190Z"
   },
   {
    "duration": 25,
    "start_time": "2022-01-25T09:09:28.917Z"
   },
   {
    "duration": 25,
    "start_time": "2022-01-25T09:09:28.943Z"
   },
   {
    "duration": 559,
    "start_time": "2022-01-25T09:09:28.970Z"
   },
   {
    "duration": 235,
    "start_time": "2022-01-25T09:09:29.532Z"
   },
   {
    "duration": 250,
    "start_time": "2022-01-25T09:09:29.769Z"
   },
   {
    "duration": 256,
    "start_time": "2022-01-25T09:09:30.021Z"
   },
   {
    "duration": 281,
    "start_time": "2022-01-25T09:09:30.279Z"
   },
   {
    "duration": 18,
    "start_time": "2022-01-25T09:09:30.562Z"
   },
   {
    "duration": 39,
    "start_time": "2022-01-25T09:09:30.582Z"
   },
   {
    "duration": 24,
    "start_time": "2022-01-25T09:09:30.622Z"
   },
   {
    "duration": 37,
    "start_time": "2022-01-25T09:09:30.648Z"
   },
   {
    "duration": 66,
    "start_time": "2022-01-25T09:09:30.687Z"
   },
   {
    "duration": 8,
    "start_time": "2022-01-25T09:15:03.080Z"
   },
   {
    "duration": 1663,
    "start_time": "2022-01-25T09:15:39.568Z"
   },
   {
    "duration": 37,
    "start_time": "2022-01-25T09:15:41.233Z"
   },
   {
    "duration": 118,
    "start_time": "2022-01-25T09:15:41.272Z"
   },
   {
    "duration": 7,
    "start_time": "2022-01-25T09:15:41.392Z"
   },
   {
    "duration": 34,
    "start_time": "2022-01-25T09:15:41.401Z"
   },
   {
    "duration": 663,
    "start_time": "2022-01-25T09:15:41.437Z"
   },
   {
    "duration": 39,
    "start_time": "2022-01-25T09:15:42.101Z"
   },
   {
    "duration": 185,
    "start_time": "2022-01-25T09:15:42.143Z"
   },
   {
    "duration": 57,
    "start_time": "2022-01-25T09:15:42.330Z"
   },
   {
    "duration": 38,
    "start_time": "2022-01-25T09:15:42.389Z"
   },
   {
    "duration": 10,
    "start_time": "2022-01-25T09:15:42.429Z"
   },
   {
    "duration": 21,
    "start_time": "2022-01-25T09:15:42.440Z"
   },
   {
    "duration": 15,
    "start_time": "2022-01-25T09:15:42.463Z"
   },
   {
    "duration": 2253,
    "start_time": "2022-01-25T09:15:42.480Z"
   },
   {
    "duration": 10,
    "start_time": "2022-01-25T09:15:44.735Z"
   },
   {
    "duration": 16,
    "start_time": "2022-01-25T09:15:44.747Z"
   },
   {
    "duration": 19,
    "start_time": "2022-01-25T09:15:44.765Z"
   },
   {
    "duration": 32,
    "start_time": "2022-01-25T09:15:44.786Z"
   },
   {
    "duration": 7,
    "start_time": "2022-01-25T09:15:44.820Z"
   },
   {
    "duration": 36,
    "start_time": "2022-01-25T09:15:44.828Z"
   },
   {
    "duration": 8,
    "start_time": "2022-01-25T09:15:44.867Z"
   },
   {
    "duration": 52,
    "start_time": "2022-01-25T09:15:44.877Z"
   },
   {
    "duration": 18,
    "start_time": "2022-01-25T09:15:44.932Z"
   },
   {
    "duration": 9,
    "start_time": "2022-01-25T09:15:44.952Z"
   },
   {
    "duration": 161,
    "start_time": "2022-01-25T09:15:44.963Z"
   },
   {
    "duration": 73,
    "start_time": "2022-01-25T09:15:45.126Z"
   },
   {
    "duration": 2,
    "start_time": "2022-01-25T09:15:45.201Z"
   },
   {
    "duration": 18,
    "start_time": "2022-01-25T09:15:45.205Z"
   },
   {
    "duration": 635,
    "start_time": "2022-01-25T09:15:45.225Z"
   },
   {
    "duration": 712,
    "start_time": "2022-01-25T09:15:45.862Z"
   },
   {
    "duration": 26,
    "start_time": "2022-01-25T09:15:46.576Z"
   },
   {
    "duration": 28,
    "start_time": "2022-01-25T09:15:46.604Z"
   },
   {
    "duration": 582,
    "start_time": "2022-01-25T09:15:46.634Z"
   },
   {
    "duration": 199,
    "start_time": "2022-01-25T09:15:47.218Z"
   },
   {
    "duration": 275,
    "start_time": "2022-01-25T09:15:47.419Z"
   },
   {
    "duration": 242,
    "start_time": "2022-01-25T09:15:47.696Z"
   },
   {
    "duration": 262,
    "start_time": "2022-01-25T09:15:47.940Z"
   },
   {
    "duration": 16,
    "start_time": "2022-01-25T09:15:48.204Z"
   },
   {
    "duration": 39,
    "start_time": "2022-01-25T09:15:48.222Z"
   },
   {
    "duration": 9,
    "start_time": "2022-01-25T09:15:48.263Z"
   },
   {
    "duration": 70,
    "start_time": "2022-01-25T09:15:48.274Z"
   },
   {
    "duration": 19,
    "start_time": "2022-01-25T09:15:48.345Z"
   },
   {
    "duration": 4500,
    "start_time": "2022-01-25T09:15:48.365Z"
   },
   {
    "duration": 4006,
    "start_time": "2022-01-25T09:16:03.659Z"
   },
   {
    "duration": 13,
    "start_time": "2022-01-25T09:16:12.075Z"
   },
   {
    "duration": 1720,
    "start_time": "2022-01-25T18:29:38.517Z"
   },
   {
    "duration": 38,
    "start_time": "2022-01-25T18:29:40.239Z"
   },
   {
    "duration": 100,
    "start_time": "2022-01-25T18:29:40.280Z"
   },
   {
    "duration": 17,
    "start_time": "2022-01-25T18:29:40.382Z"
   },
   {
    "duration": 22,
    "start_time": "2022-01-25T18:29:40.401Z"
   },
   {
    "duration": 682,
    "start_time": "2022-01-25T18:29:40.424Z"
   },
   {
    "duration": 41,
    "start_time": "2022-01-25T18:29:41.108Z"
   },
   {
    "duration": 226,
    "start_time": "2022-01-25T18:29:41.153Z"
   },
   {
    "duration": 62,
    "start_time": "2022-01-25T18:29:41.382Z"
   },
   {
    "duration": 54,
    "start_time": "2022-01-25T18:29:41.446Z"
   },
   {
    "duration": 10,
    "start_time": "2022-01-25T18:29:41.502Z"
   },
   {
    "duration": 14,
    "start_time": "2022-01-25T18:29:41.514Z"
   },
   {
    "duration": 16,
    "start_time": "2022-01-25T18:29:41.530Z"
   },
   {
    "duration": 2838,
    "start_time": "2022-01-25T18:29:41.548Z"
   },
   {
    "duration": 11,
    "start_time": "2022-01-25T18:29:44.388Z"
   },
   {
    "duration": 9,
    "start_time": "2022-01-25T18:29:44.401Z"
   },
   {
    "duration": 20,
    "start_time": "2022-01-25T18:29:44.411Z"
   },
   {
    "duration": 34,
    "start_time": "2022-01-25T18:29:44.432Z"
   },
   {
    "duration": 35,
    "start_time": "2022-01-25T18:29:44.467Z"
   },
   {
    "duration": 11,
    "start_time": "2022-01-25T18:29:44.504Z"
   },
   {
    "duration": 9,
    "start_time": "2022-01-25T18:29:44.517Z"
   },
   {
    "duration": 27,
    "start_time": "2022-01-25T18:29:44.528Z"
   },
   {
    "duration": 13,
    "start_time": "2022-01-25T18:29:44.600Z"
   },
   {
    "duration": 12,
    "start_time": "2022-01-25T18:29:44.616Z"
   },
   {
    "duration": 471,
    "start_time": "2022-01-25T18:29:44.629Z"
   },
   {
    "duration": 124,
    "start_time": "2022-01-25T18:29:45.102Z"
   },
   {
    "duration": 3,
    "start_time": "2022-01-25T18:29:45.228Z"
   },
   {
    "duration": 65,
    "start_time": "2022-01-25T18:29:45.232Z"
   },
   {
    "duration": 1306,
    "start_time": "2022-01-25T18:29:45.299Z"
   },
   {
    "duration": 1625,
    "start_time": "2022-01-25T18:29:46.606Z"
   },
   {
    "duration": 79,
    "start_time": "2022-01-25T18:29:48.234Z"
   },
   {
    "duration": 14,
    "start_time": "2022-01-25T18:29:48.315Z"
   },
   {
    "duration": 1183,
    "start_time": "2022-01-25T18:29:48.331Z"
   },
   {
    "duration": 312,
    "start_time": "2022-01-25T18:29:49.515Z"
   },
   {
    "duration": 578,
    "start_time": "2022-01-25T18:29:49.829Z"
   },
   {
    "duration": 791,
    "start_time": "2022-01-25T18:29:50.409Z"
   },
   {
    "duration": 1010,
    "start_time": "2022-01-25T18:29:51.204Z"
   },
   {
    "duration": 94,
    "start_time": "2022-01-25T18:29:52.216Z"
   },
   {
    "duration": 101,
    "start_time": "2022-01-25T18:29:52.311Z"
   },
   {
    "duration": 10,
    "start_time": "2022-01-25T18:29:52.414Z"
   },
   {
    "duration": 73,
    "start_time": "2022-01-25T18:29:52.426Z"
   },
   {
    "duration": 14,
    "start_time": "2022-01-25T18:29:52.501Z"
   },
   {
    "duration": 80,
    "start_time": "2022-01-25T18:29:52.517Z"
   },
   {
    "duration": 6,
    "start_time": "2022-01-25T18:40:30.530Z"
   },
   {
    "duration": 35,
    "start_time": "2022-01-25T18:40:36.950Z"
   },
   {
    "duration": 6,
    "start_time": "2022-01-25T18:40:42.825Z"
   },
   {
    "duration": 13,
    "start_time": "2022-01-25T18:40:43.033Z"
   },
   {
    "duration": 36,
    "start_time": "2022-01-25T18:40:43.983Z"
   },
   {
    "duration": 537,
    "start_time": "2022-01-25T18:40:53.786Z"
   },
   {
    "duration": 34,
    "start_time": "2022-01-25T18:41:06.232Z"
   },
   {
    "duration": 8,
    "start_time": "2022-01-25T18:41:12.143Z"
   },
   {
    "duration": 1763,
    "start_time": "2022-01-25T18:46:08.156Z"
   },
   {
    "duration": 36,
    "start_time": "2022-01-25T18:46:09.921Z"
   },
   {
    "duration": 107,
    "start_time": "2022-01-25T18:46:09.959Z"
   },
   {
    "duration": 9,
    "start_time": "2022-01-25T18:46:10.069Z"
   },
   {
    "duration": 22,
    "start_time": "2022-01-25T18:46:10.097Z"
   },
   {
    "duration": 639,
    "start_time": "2022-01-25T18:46:10.121Z"
   },
   {
    "duration": 49,
    "start_time": "2022-01-25T18:46:10.762Z"
   },
   {
    "duration": 182,
    "start_time": "2022-01-25T18:46:10.813Z"
   },
   {
    "duration": 52,
    "start_time": "2022-01-25T18:46:10.998Z"
   },
   {
    "duration": 45,
    "start_time": "2022-01-25T18:46:11.052Z"
   },
   {
    "duration": 10,
    "start_time": "2022-01-25T18:46:11.098Z"
   },
   {
    "duration": 7,
    "start_time": "2022-01-25T18:46:11.109Z"
   },
   {
    "duration": 16,
    "start_time": "2022-01-25T18:46:11.117Z"
   },
   {
    "duration": 2194,
    "start_time": "2022-01-25T18:46:11.134Z"
   },
   {
    "duration": 6,
    "start_time": "2022-01-25T18:46:13.329Z"
   },
   {
    "duration": 5,
    "start_time": "2022-01-25T18:46:13.337Z"
   },
   {
    "duration": 18,
    "start_time": "2022-01-25T18:46:13.344Z"
   },
   {
    "duration": 55,
    "start_time": "2022-01-25T18:46:13.364Z"
   },
   {
    "duration": 6,
    "start_time": "2022-01-25T18:46:13.421Z"
   },
   {
    "duration": 20,
    "start_time": "2022-01-25T18:46:13.429Z"
   },
   {
    "duration": 11,
    "start_time": "2022-01-25T18:46:13.451Z"
   },
   {
    "duration": 37,
    "start_time": "2022-01-25T18:46:13.464Z"
   },
   {
    "duration": 12,
    "start_time": "2022-01-25T18:46:13.503Z"
   },
   {
    "duration": 9,
    "start_time": "2022-01-25T18:46:13.517Z"
   },
   {
    "duration": 177,
    "start_time": "2022-01-25T18:46:13.528Z"
   },
   {
    "duration": 66,
    "start_time": "2022-01-25T18:46:13.707Z"
   },
   {
    "duration": 3,
    "start_time": "2022-01-25T18:46:13.776Z"
   },
   {
    "duration": 7,
    "start_time": "2022-01-25T18:46:13.797Z"
   },
   {
    "duration": 688,
    "start_time": "2022-01-25T18:46:13.806Z"
   },
   {
    "duration": 791,
    "start_time": "2022-01-25T18:46:14.496Z"
   },
   {
    "duration": 26,
    "start_time": "2022-01-25T18:46:15.289Z"
   },
   {
    "duration": 14,
    "start_time": "2022-01-25T18:46:15.317Z"
   },
   {
    "duration": 587,
    "start_time": "2022-01-25T18:46:15.333Z"
   },
   {
    "duration": 256,
    "start_time": "2022-01-25T18:46:15.922Z"
   },
   {
    "duration": 336,
    "start_time": "2022-01-25T18:46:16.181Z"
   },
   {
    "duration": 261,
    "start_time": "2022-01-25T18:46:16.519Z"
   },
   {
    "duration": 291,
    "start_time": "2022-01-25T18:46:16.782Z"
   },
   {
    "duration": 29,
    "start_time": "2022-01-25T18:46:17.075Z"
   },
   {
    "duration": 24,
    "start_time": "2022-01-25T18:46:17.106Z"
   },
   {
    "duration": 9,
    "start_time": "2022-01-25T18:46:17.131Z"
   },
   {
    "duration": 16,
    "start_time": "2022-01-25T18:46:17.141Z"
   },
   {
    "duration": 10,
    "start_time": "2022-01-25T18:46:17.159Z"
   },
   {
    "duration": 37,
    "start_time": "2022-01-25T18:46:17.171Z"
   },
   {
    "duration": 31,
    "start_time": "2022-01-25T18:46:17.210Z"
   }
  ],
  "kernelspec": {
   "display_name": "Python 3",
   "language": "python",
   "name": "python3"
  },
  "language_info": {
   "codemirror_mode": {
    "name": "ipython",
    "version": 3
   },
   "file_extension": ".py",
   "mimetype": "text/x-python",
   "name": "python",
   "nbconvert_exporter": "python",
   "pygments_lexer": "ipython3",
   "version": "3.8.8"
  },
  "toc": {
   "base_numbering": 1,
   "nav_menu": {},
   "number_sections": true,
   "sideBar": true,
   "skip_h1_title": true,
   "title_cell": "Table of Contents",
   "title_sidebar": "Contents",
   "toc_cell": false,
   "toc_position": {},
   "toc_section_display": true,
   "toc_window_display": false
  }
 },
 "nbformat": 4,
 "nbformat_minor": 2
}
